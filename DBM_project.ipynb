{
  "nbformat": 4,
  "nbformat_minor": 0,
  "metadata": {
    "colab": {
      "provenance": []
    },
    "kernelspec": {
      "name": "python3",
      "display_name": "Python 3"
    },
    "language_info": {
      "name": "python"
    }
  },
  "cells": [
    {
      "cell_type": "code",
      "source": [
        "import pandas as pd\n",
        "import numpy as np"
      ],
      "metadata": {
        "id": "IQqL6SNp4GPJ"
      },
      "execution_count": null,
      "outputs": []
    },
    {
      "cell_type": "code",
      "source": [
        "# gender: 1= Male , 2 = Female.\n",
        "# Pregnancy: 1= pregnant , 2 = Not pregnant\n",
        "# 1: yes , 2: no\n",
        "# physical activity = coded as 1 for inactive, 2 for minimally active, 3 for moderately active, and 4 for highly active.\n",
        "# prediabetic: 0 : no 1: yes"
      ],
      "metadata": {
        "id": "5AOloJFe4bSx"
      },
      "execution_count": null,
      "outputs": []
    },
    {
      "cell_type": "code",
      "source": [
        "data = pd.read_csv('/content/merged_data_Prediabetic.csv')\n",
        "data.drop(['wave','year','medication','medication_id'],axis = 1, inplace = True)"
      ],
      "metadata": {
        "id": "jflXvUq1NQoj"
      },
      "execution_count": null,
      "outputs": []
    },
    {
      "cell_type": "code",
      "source": [
        "data.dropna(how = 'any', axis = 0, subset = 'glucose', inplace = True)"
      ],
      "metadata": {
        "id": "onGBLa5xNjoF"
      },
      "execution_count": null,
      "outputs": []
    },
    {
      "cell_type": "code",
      "source": [
        "data.columns"
      ],
      "metadata": {
        "colab": {
          "base_uri": "https://localhost:8080/"
        },
        "id": "snujjio9Ntos",
        "outputId": "e2966e4a-13a3-4c82-ce5a-900c5afedeb6"
      },
      "execution_count": null,
      "outputs": [
        {
          "output_type": "execute_result",
          "data": {
            "text/plain": [
              "Index(['seqn', 'gender', 'age', 'race_ethnicity', 'education_level',\n",
              "       'family_income_ratio', 'pregnancy_status', 'annual_income', 'bmi',\n",
              "       'weight', 'height', 'systolic_bp', 'diastolic_bp', 'glucose',\n",
              "       'diabetes_pedigree_func', 'diabetes_outcome', 'ever_pregnant',\n",
              "       'diabetes_during_pregnancy', 'triglycerides', 'hdl_cholesterol',\n",
              "       'waist_circumference', 'smoker', 'diet_intake', 'alcohol_consumption',\n",
              "       'physical_activity_level', 'sleep_duration_hours',\n",
              "       'doctor_trouble_sleeping', 'doctor_sleep_disorder', 'days_used',\n",
              "       'cholesterol', 'coffee_tea_added_sugar', 'A1C_level', 'pre_diabetic'],\n",
              "      dtype='object')"
            ]
          },
          "metadata": {},
          "execution_count": 4
        }
      ]
    },
    {
      "cell_type": "code",
      "source": [
        "col = ['days_used','doctor_sleep_disorder','doctor_trouble_sleeping','sleep_duration_hours','alcohol_consumption',\n",
        "       'diet_intake','smoker','diabetes_during_pregnancy','ever_pregnant','diabetes_pedigree_func','pregnancy_status',\n",
        "       'family_income_ratio','education_level']"
      ],
      "metadata": {
        "id": "MP2MgmJKNspy"
      },
      "execution_count": null,
      "outputs": []
    },
    {
      "cell_type": "code",
      "source": [
        "data.drop(col, axis = 1,inplace = True)"
      ],
      "metadata": {
        "id": "CUdNfZBbOW9n"
      },
      "execution_count": null,
      "outputs": []
    },
    {
      "cell_type": "code",
      "source": [
        "data.dropna(inplace = True)"
      ],
      "metadata": {
        "id": "0YhdIsJzOhPX"
      },
      "execution_count": null,
      "outputs": []
    },
    {
      "cell_type": "code",
      "source": [
        "data.drop_duplicates(inplace=True)"
      ],
      "metadata": {
        "id": "mn5CInSEs-tF"
      },
      "execution_count": null,
      "outputs": []
    },
    {
      "cell_type": "code",
      "source": [
        "#diabetes = 2\n",
        "#prediabetic = 1\n",
        "# normal = 0"
      ],
      "metadata": {
        "id": "_b9tEqZvmuMz"
      },
      "execution_count": null,
      "outputs": []
    },
    {
      "cell_type": "code",
      "source": [
        "condition = []"
      ],
      "metadata": {
        "id": "KjpVCqCeem69"
      },
      "execution_count": null,
      "outputs": []
    },
    {
      "cell_type": "code",
      "source": [
        "for i in range(len(data)):\n",
        "  if data.iloc[i]['diabetes_outcome'] == 1:\n",
        "    condition.append(2)\n",
        "  else:\n",
        "    if data.iloc[i]['pre_diabetic'] == 0:\n",
        "      condition.append(0)\n",
        "    elif data.iloc[i]['A1C_level']> 6.5 and data.iloc[i]['pre_diabetic'] == 1:\n",
        "      condition.append(2)\n",
        "    else:\n",
        "      condition.append(1)"
      ],
      "metadata": {
        "id": "ygPa_qazegB1"
      },
      "execution_count": null,
      "outputs": []
    },
    {
      "cell_type": "code",
      "source": [
        "diabetes = data.drop(['diabetes_outcome','pre_diabetic'],axis = 1)"
      ],
      "metadata": {
        "id": "0NEMBm6Sh56L"
      },
      "execution_count": null,
      "outputs": []
    },
    {
      "cell_type": "code",
      "source": [
        "diabetes['condition'] = condition"
      ],
      "metadata": {
        "id": "1S5aiY0juvmS"
      },
      "execution_count": null,
      "outputs": []
    },
    {
      "cell_type": "code",
      "source": [
        "diabetes"
      ],
      "metadata": {
        "colab": {
          "base_uri": "https://localhost:8080/",
          "height": 483
        },
        "id": "WsTh0C43KXlS",
        "outputId": "1d1fe328-27aa-42e1-de6c-f94c2c8e8aed"
      },
      "execution_count": null,
      "outputs": [
        {
          "output_type": "execute_result",
          "data": {
            "text/plain": [
              "        seqn  gender  age  race_ethnicity  annual_income   bmi  weight  \\\n",
              "0      62161       1   22               3           14.0  23.3    69.2   \n",
              "2      62164       2   44               3            8.0  23.2    67.2   \n",
              "4      62169       1   21               5            2.0  20.1    54.6   \n",
              "7      62172       2   43               4            5.0  33.3    98.6   \n",
              "13     62177       1   51               5           77.0  20.1    57.3   \n",
              "...      ...     ...  ...             ...            ...   ...     ...   \n",
              "10685  71898       2   65               1            9.0  29.4    70.3   \n",
              "10690  71901       2   48               5            3.0  59.7   140.4   \n",
              "10699  71909       1   28               1            2.0  29.4    92.3   \n",
              "10700  71911       1   27               1           14.0  31.3    96.7   \n",
              "10704  71915       1   60               3           10.0  27.5    78.4   \n",
              "\n",
              "       height  systolic_bp  diastolic_bp  glucose  triglycerides  \\\n",
              "0       172.3        110.0          82.0     92.0          110.0   \n",
              "2       170.1        116.0          56.0     82.0          151.0   \n",
              "4       164.8        124.0          80.0    107.0           73.0   \n",
              "7       172.0        100.0          70.0    104.0           68.0   \n",
              "13      168.9        152.0          68.0     95.0          130.0   \n",
              "...       ...          ...           ...      ...            ...   \n",
              "10685   154.7        152.0          76.0    114.0           80.0   \n",
              "10690   153.4        124.0          76.0    152.0          109.0   \n",
              "10699   177.3        124.0          62.0     99.0           87.0   \n",
              "10700   175.8        122.0          76.0    100.0          155.0   \n",
              "10704   168.8        150.0          72.0     91.0          110.0   \n",
              "\n",
              "       hdl_cholesterol  waist_circumference  physical_activity_level  \\\n",
              "0                 41.0                 68.0                      2.0   \n",
              "2                 28.0                 66.0                      1.0   \n",
              "4                 43.0                 64.0                      2.0   \n",
              "7                 73.0                 67.0                      2.0   \n",
              "13                43.0                 67.0                      2.0   \n",
              "...                ...                  ...                      ...   \n",
              "10685             49.0                 60.0                      2.0   \n",
              "10690             57.0                 62.0                      2.0   \n",
              "10699             47.0                 71.0                      2.0   \n",
              "10700             41.0                 70.0                      1.0   \n",
              "10704             36.0                 67.0                      2.0   \n",
              "\n",
              "       cholesterol  coffee_tea_added_sugar  A1C_level  condition  \n",
              "0            168.0                       2        5.1          0  \n",
              "2            190.0                       2        4.9          0  \n",
              "4            132.0                       2        5.4          1  \n",
              "7            169.0                       2        5.6          1  \n",
              "13           198.0                       2        5.8          1  \n",
              "...            ...                     ...        ...        ...  \n",
              "10685        162.0                       2        5.7          1  \n",
              "10690        187.0                       2        6.5          2  \n",
              "10699        151.0                       2        5.3          0  \n",
              "10700        221.0                       2        4.7          1  \n",
              "10704        191.0                       2        5.2          2  \n",
              "\n",
              "[2376 rows x 19 columns]"
            ],
            "text/html": [
              "\n",
              "  <div id=\"df-7ab430e5-2024-4670-8c83-d32106598c83\">\n",
              "    <div class=\"colab-df-container\">\n",
              "      <div>\n",
              "<style scoped>\n",
              "    .dataframe tbody tr th:only-of-type {\n",
              "        vertical-align: middle;\n",
              "    }\n",
              "\n",
              "    .dataframe tbody tr th {\n",
              "        vertical-align: top;\n",
              "    }\n",
              "\n",
              "    .dataframe thead th {\n",
              "        text-align: right;\n",
              "    }\n",
              "</style>\n",
              "<table border=\"1\" class=\"dataframe\">\n",
              "  <thead>\n",
              "    <tr style=\"text-align: right;\">\n",
              "      <th></th>\n",
              "      <th>seqn</th>\n",
              "      <th>gender</th>\n",
              "      <th>age</th>\n",
              "      <th>race_ethnicity</th>\n",
              "      <th>annual_income</th>\n",
              "      <th>bmi</th>\n",
              "      <th>weight</th>\n",
              "      <th>height</th>\n",
              "      <th>systolic_bp</th>\n",
              "      <th>diastolic_bp</th>\n",
              "      <th>glucose</th>\n",
              "      <th>triglycerides</th>\n",
              "      <th>hdl_cholesterol</th>\n",
              "      <th>waist_circumference</th>\n",
              "      <th>physical_activity_level</th>\n",
              "      <th>cholesterol</th>\n",
              "      <th>coffee_tea_added_sugar</th>\n",
              "      <th>A1C_level</th>\n",
              "      <th>condition</th>\n",
              "    </tr>\n",
              "  </thead>\n",
              "  <tbody>\n",
              "    <tr>\n",
              "      <th>0</th>\n",
              "      <td>62161</td>\n",
              "      <td>1</td>\n",
              "      <td>22</td>\n",
              "      <td>3</td>\n",
              "      <td>14.0</td>\n",
              "      <td>23.3</td>\n",
              "      <td>69.2</td>\n",
              "      <td>172.3</td>\n",
              "      <td>110.0</td>\n",
              "      <td>82.0</td>\n",
              "      <td>92.0</td>\n",
              "      <td>110.0</td>\n",
              "      <td>41.0</td>\n",
              "      <td>68.0</td>\n",
              "      <td>2.0</td>\n",
              "      <td>168.0</td>\n",
              "      <td>2</td>\n",
              "      <td>5.1</td>\n",
              "      <td>0</td>\n",
              "    </tr>\n",
              "    <tr>\n",
              "      <th>2</th>\n",
              "      <td>62164</td>\n",
              "      <td>2</td>\n",
              "      <td>44</td>\n",
              "      <td>3</td>\n",
              "      <td>8.0</td>\n",
              "      <td>23.2</td>\n",
              "      <td>67.2</td>\n",
              "      <td>170.1</td>\n",
              "      <td>116.0</td>\n",
              "      <td>56.0</td>\n",
              "      <td>82.0</td>\n",
              "      <td>151.0</td>\n",
              "      <td>28.0</td>\n",
              "      <td>66.0</td>\n",
              "      <td>1.0</td>\n",
              "      <td>190.0</td>\n",
              "      <td>2</td>\n",
              "      <td>4.9</td>\n",
              "      <td>0</td>\n",
              "    </tr>\n",
              "    <tr>\n",
              "      <th>4</th>\n",
              "      <td>62169</td>\n",
              "      <td>1</td>\n",
              "      <td>21</td>\n",
              "      <td>5</td>\n",
              "      <td>2.0</td>\n",
              "      <td>20.1</td>\n",
              "      <td>54.6</td>\n",
              "      <td>164.8</td>\n",
              "      <td>124.0</td>\n",
              "      <td>80.0</td>\n",
              "      <td>107.0</td>\n",
              "      <td>73.0</td>\n",
              "      <td>43.0</td>\n",
              "      <td>64.0</td>\n",
              "      <td>2.0</td>\n",
              "      <td>132.0</td>\n",
              "      <td>2</td>\n",
              "      <td>5.4</td>\n",
              "      <td>1</td>\n",
              "    </tr>\n",
              "    <tr>\n",
              "      <th>7</th>\n",
              "      <td>62172</td>\n",
              "      <td>2</td>\n",
              "      <td>43</td>\n",
              "      <td>4</td>\n",
              "      <td>5.0</td>\n",
              "      <td>33.3</td>\n",
              "      <td>98.6</td>\n",
              "      <td>172.0</td>\n",
              "      <td>100.0</td>\n",
              "      <td>70.0</td>\n",
              "      <td>104.0</td>\n",
              "      <td>68.0</td>\n",
              "      <td>73.0</td>\n",
              "      <td>67.0</td>\n",
              "      <td>2.0</td>\n",
              "      <td>169.0</td>\n",
              "      <td>2</td>\n",
              "      <td>5.6</td>\n",
              "      <td>1</td>\n",
              "    </tr>\n",
              "    <tr>\n",
              "      <th>13</th>\n",
              "      <td>62177</td>\n",
              "      <td>1</td>\n",
              "      <td>51</td>\n",
              "      <td>5</td>\n",
              "      <td>77.0</td>\n",
              "      <td>20.1</td>\n",
              "      <td>57.3</td>\n",
              "      <td>168.9</td>\n",
              "      <td>152.0</td>\n",
              "      <td>68.0</td>\n",
              "      <td>95.0</td>\n",
              "      <td>130.0</td>\n",
              "      <td>43.0</td>\n",
              "      <td>67.0</td>\n",
              "      <td>2.0</td>\n",
              "      <td>198.0</td>\n",
              "      <td>2</td>\n",
              "      <td>5.8</td>\n",
              "      <td>1</td>\n",
              "    </tr>\n",
              "    <tr>\n",
              "      <th>...</th>\n",
              "      <td>...</td>\n",
              "      <td>...</td>\n",
              "      <td>...</td>\n",
              "      <td>...</td>\n",
              "      <td>...</td>\n",
              "      <td>...</td>\n",
              "      <td>...</td>\n",
              "      <td>...</td>\n",
              "      <td>...</td>\n",
              "      <td>...</td>\n",
              "      <td>...</td>\n",
              "      <td>...</td>\n",
              "      <td>...</td>\n",
              "      <td>...</td>\n",
              "      <td>...</td>\n",
              "      <td>...</td>\n",
              "      <td>...</td>\n",
              "      <td>...</td>\n",
              "      <td>...</td>\n",
              "    </tr>\n",
              "    <tr>\n",
              "      <th>10685</th>\n",
              "      <td>71898</td>\n",
              "      <td>2</td>\n",
              "      <td>65</td>\n",
              "      <td>1</td>\n",
              "      <td>9.0</td>\n",
              "      <td>29.4</td>\n",
              "      <td>70.3</td>\n",
              "      <td>154.7</td>\n",
              "      <td>152.0</td>\n",
              "      <td>76.0</td>\n",
              "      <td>114.0</td>\n",
              "      <td>80.0</td>\n",
              "      <td>49.0</td>\n",
              "      <td>60.0</td>\n",
              "      <td>2.0</td>\n",
              "      <td>162.0</td>\n",
              "      <td>2</td>\n",
              "      <td>5.7</td>\n",
              "      <td>1</td>\n",
              "    </tr>\n",
              "    <tr>\n",
              "      <th>10690</th>\n",
              "      <td>71901</td>\n",
              "      <td>2</td>\n",
              "      <td>48</td>\n",
              "      <td>5</td>\n",
              "      <td>3.0</td>\n",
              "      <td>59.7</td>\n",
              "      <td>140.4</td>\n",
              "      <td>153.4</td>\n",
              "      <td>124.0</td>\n",
              "      <td>76.0</td>\n",
              "      <td>152.0</td>\n",
              "      <td>109.0</td>\n",
              "      <td>57.0</td>\n",
              "      <td>62.0</td>\n",
              "      <td>2.0</td>\n",
              "      <td>187.0</td>\n",
              "      <td>2</td>\n",
              "      <td>6.5</td>\n",
              "      <td>2</td>\n",
              "    </tr>\n",
              "    <tr>\n",
              "      <th>10699</th>\n",
              "      <td>71909</td>\n",
              "      <td>1</td>\n",
              "      <td>28</td>\n",
              "      <td>1</td>\n",
              "      <td>2.0</td>\n",
              "      <td>29.4</td>\n",
              "      <td>92.3</td>\n",
              "      <td>177.3</td>\n",
              "      <td>124.0</td>\n",
              "      <td>62.0</td>\n",
              "      <td>99.0</td>\n",
              "      <td>87.0</td>\n",
              "      <td>47.0</td>\n",
              "      <td>71.0</td>\n",
              "      <td>2.0</td>\n",
              "      <td>151.0</td>\n",
              "      <td>2</td>\n",
              "      <td>5.3</td>\n",
              "      <td>0</td>\n",
              "    </tr>\n",
              "    <tr>\n",
              "      <th>10700</th>\n",
              "      <td>71911</td>\n",
              "      <td>1</td>\n",
              "      <td>27</td>\n",
              "      <td>1</td>\n",
              "      <td>14.0</td>\n",
              "      <td>31.3</td>\n",
              "      <td>96.7</td>\n",
              "      <td>175.8</td>\n",
              "      <td>122.0</td>\n",
              "      <td>76.0</td>\n",
              "      <td>100.0</td>\n",
              "      <td>155.0</td>\n",
              "      <td>41.0</td>\n",
              "      <td>70.0</td>\n",
              "      <td>1.0</td>\n",
              "      <td>221.0</td>\n",
              "      <td>2</td>\n",
              "      <td>4.7</td>\n",
              "      <td>1</td>\n",
              "    </tr>\n",
              "    <tr>\n",
              "      <th>10704</th>\n",
              "      <td>71915</td>\n",
              "      <td>1</td>\n",
              "      <td>60</td>\n",
              "      <td>3</td>\n",
              "      <td>10.0</td>\n",
              "      <td>27.5</td>\n",
              "      <td>78.4</td>\n",
              "      <td>168.8</td>\n",
              "      <td>150.0</td>\n",
              "      <td>72.0</td>\n",
              "      <td>91.0</td>\n",
              "      <td>110.0</td>\n",
              "      <td>36.0</td>\n",
              "      <td>67.0</td>\n",
              "      <td>2.0</td>\n",
              "      <td>191.0</td>\n",
              "      <td>2</td>\n",
              "      <td>5.2</td>\n",
              "      <td>2</td>\n",
              "    </tr>\n",
              "  </tbody>\n",
              "</table>\n",
              "<p>2376 rows × 19 columns</p>\n",
              "</div>\n",
              "      <button class=\"colab-df-convert\" onclick=\"convertToInteractive('df-7ab430e5-2024-4670-8c83-d32106598c83')\"\n",
              "              title=\"Convert this dataframe to an interactive table.\"\n",
              "              style=\"display:none;\">\n",
              "        \n",
              "  <svg xmlns=\"http://www.w3.org/2000/svg\" height=\"24px\"viewBox=\"0 0 24 24\"\n",
              "       width=\"24px\">\n",
              "    <path d=\"M0 0h24v24H0V0z\" fill=\"none\"/>\n",
              "    <path d=\"M18.56 5.44l.94 2.06.94-2.06 2.06-.94-2.06-.94-.94-2.06-.94 2.06-2.06.94zm-11 1L8.5 8.5l.94-2.06 2.06-.94-2.06-.94L8.5 2.5l-.94 2.06-2.06.94zm10 10l.94 2.06.94-2.06 2.06-.94-2.06-.94-.94-2.06-.94 2.06-2.06.94z\"/><path d=\"M17.41 7.96l-1.37-1.37c-.4-.4-.92-.59-1.43-.59-.52 0-1.04.2-1.43.59L10.3 9.45l-7.72 7.72c-.78.78-.78 2.05 0 2.83L4 21.41c.39.39.9.59 1.41.59.51 0 1.02-.2 1.41-.59l7.78-7.78 2.81-2.81c.8-.78.8-2.07 0-2.86zM5.41 20L4 18.59l7.72-7.72 1.47 1.35L5.41 20z\"/>\n",
              "  </svg>\n",
              "      </button>\n",
              "      \n",
              "  <style>\n",
              "    .colab-df-container {\n",
              "      display:flex;\n",
              "      flex-wrap:wrap;\n",
              "      gap: 12px;\n",
              "    }\n",
              "\n",
              "    .colab-df-convert {\n",
              "      background-color: #E8F0FE;\n",
              "      border: none;\n",
              "      border-radius: 50%;\n",
              "      cursor: pointer;\n",
              "      display: none;\n",
              "      fill: #1967D2;\n",
              "      height: 32px;\n",
              "      padding: 0 0 0 0;\n",
              "      width: 32px;\n",
              "    }\n",
              "\n",
              "    .colab-df-convert:hover {\n",
              "      background-color: #E2EBFA;\n",
              "      box-shadow: 0px 1px 2px rgba(60, 64, 67, 0.3), 0px 1px 3px 1px rgba(60, 64, 67, 0.15);\n",
              "      fill: #174EA6;\n",
              "    }\n",
              "\n",
              "    [theme=dark] .colab-df-convert {\n",
              "      background-color: #3B4455;\n",
              "      fill: #D2E3FC;\n",
              "    }\n",
              "\n",
              "    [theme=dark] .colab-df-convert:hover {\n",
              "      background-color: #434B5C;\n",
              "      box-shadow: 0px 1px 3px 1px rgba(0, 0, 0, 0.15);\n",
              "      filter: drop-shadow(0px 1px 2px rgba(0, 0, 0, 0.3));\n",
              "      fill: #FFFFFF;\n",
              "    }\n",
              "  </style>\n",
              "\n",
              "      <script>\n",
              "        const buttonEl =\n",
              "          document.querySelector('#df-7ab430e5-2024-4670-8c83-d32106598c83 button.colab-df-convert');\n",
              "        buttonEl.style.display =\n",
              "          google.colab.kernel.accessAllowed ? 'block' : 'none';\n",
              "\n",
              "        async function convertToInteractive(key) {\n",
              "          const element = document.querySelector('#df-7ab430e5-2024-4670-8c83-d32106598c83');\n",
              "          const dataTable =\n",
              "            await google.colab.kernel.invokeFunction('convertToInteractive',\n",
              "                                                     [key], {});\n",
              "          if (!dataTable) return;\n",
              "\n",
              "          const docLinkHtml = 'Like what you see? Visit the ' +\n",
              "            '<a target=\"_blank\" href=https://colab.research.google.com/notebooks/data_table.ipynb>data table notebook</a>'\n",
              "            + ' to learn more about interactive tables.';\n",
              "          element.innerHTML = '';\n",
              "          dataTable['output_type'] = 'display_data';\n",
              "          await google.colab.output.renderOutput(dataTable, element);\n",
              "          const docLink = document.createElement('div');\n",
              "          docLink.innerHTML = docLinkHtml;\n",
              "          element.appendChild(docLink);\n",
              "        }\n",
              "      </script>\n",
              "    </div>\n",
              "  </div>\n",
              "  "
            ]
          },
          "metadata": {},
          "execution_count": 13
        }
      ]
    },
    {
      "cell_type": "code",
      "source": [
        " # 3 = non hispanic white , 4 = non hispanic black , 1 = mexican american, 2 = other hispanic, 5 = other race\n",
        "# 1= male 2 = female"
      ],
      "metadata": {
        "id": "cK9EIE5biybK"
      },
      "execution_count": null,
      "outputs": []
    },
    {
      "cell_type": "code",
      "source": [
        "diabetes.gender.unique()"
      ],
      "metadata": {
        "colab": {
          "base_uri": "https://localhost:8080/"
        },
        "id": "1mTkylFhkOiY",
        "outputId": "89935dab-dc9b-4513-8180-9a653057831a"
      },
      "execution_count": null,
      "outputs": [
        {
          "output_type": "execute_result",
          "data": {
            "text/plain": [
              "array([1, 2])"
            ]
          },
          "metadata": {},
          "execution_count": 14
        }
      ]
    },
    {
      "cell_type": "code",
      "source": [
        "import seaborn as sns"
      ],
      "metadata": {
        "id": "ArnFh58KAV-M"
      },
      "execution_count": null,
      "outputs": []
    },
    {
      "cell_type": "code",
      "source": [],
      "metadata": {
        "id": "GhWsGEX-A0af"
      },
      "execution_count": null,
      "outputs": []
    },
    {
      "cell_type": "code",
      "source": [
        "from matplotlib import legend\n",
        "fig = sns.countplot(data = diabetes, x = 'condition',hue= 'condition',dodge=False)\n",
        "fig.legend(labels = ['no diabetes','prediabetic','diabetic'],loc='upper center', bbox_to_anchor=(0.5, -0.1),\n",
        "          fancybox=True, shadow=True, ncol = 5)\n"
      ],
      "metadata": {
        "colab": {
          "base_uri": "https://localhost:8080/",
          "height": 492
        },
        "id": "jTebwDiNAZX6",
        "outputId": "7cb15ef2-9a6c-42e9-c619-9be774a82a93"
      },
      "execution_count": null,
      "outputs": [
        {
          "output_type": "execute_result",
          "data": {
            "text/plain": [
              "<matplotlib.legend.Legend at 0x7fbdfcae9390>"
            ]
          },
          "metadata": {},
          "execution_count": 16
        },
        {
          "output_type": "display_data",
          "data": {
            "text/plain": [
              "<Figure size 640x480 with 1 Axes>"
            ],
            "image/png": "[encoded data removed]"
          },
          "metadata": {}
        }
      ]
    },
    {
      "cell_type": "code",
      "source": [
        "diabetes.to_csv('diabetes.csv')"
      ],
      "metadata": {
        "id": "BlfhZhODHxz6"
      },
      "execution_count": null,
      "outputs": []
    },
    {
      "cell_type": "code",
      "source": [
        "from sqlalchemy import create_engine"
      ],
      "metadata": {
        "id": "7jiqdXKiJdDn"
      },
      "execution_count": null,
      "outputs": []
    },
    {
      "cell_type": "code",
      "source": [
        "person_data = diabetes[diabetes.columns[0:8]]\n",
        "Glucose = diabetes[['seqn','glucose','A1C_level','condition']]\n",
        "physical = diabetes[['seqn','waist_circumference','physical_activity_level','coffee_tea_added_sugar']]\n",
        "blood_pressure = diabetes[['seqn','systolic_bp','diastolic_bp','triglycerides','hdl_cholesterol','cholesterol']]"
      ],
      "metadata": {
        "id": "AXgvVXRoKP7A"
      },
      "execution_count": null,
      "outputs": []
    },
    {
      "cell_type": "code",
      "source": [
        "engine = create_engine('sqlite:///diabetes')"
      ],
      "metadata": {
        "id": "4d2YOyvtJ1aJ"
      },
      "execution_count": null,
      "outputs": []
    },
    {
      "cell_type": "code",
      "source": [
        "person_data.to_sql('IndividualData', engine, if_exists='replace', index=False)\n",
        "Glucose.to_sql('glucoseData', engine, if_exists='replace', index=False)\n",
        "physical.to_sql('physicalData', engine, if_exists='replace', index=False)\n",
        "blood_pressure.to_sql('generalData', engine, if_exists='replace', index=False)"
      ],
      "metadata": {
        "colab": {
          "base_uri": "https://localhost:8080/"
        },
        "id": "hEgoJX4MMHJb",
        "outputId": "6604c605-861d-4f53-8fbd-b1b3361a59d9"
      },
      "execution_count": null,
      "outputs": [
        {
          "output_type": "execute_result",
          "data": {
            "text/plain": [
              "5721"
            ]
          },
          "metadata": {},
          "execution_count": 75
        }
      ]
    },
    {
      "cell_type": "code",
      "source": [
        "pd.read_sql_query('SELECT seqn,gender,age,bmi,weight FROM IndividualData', engine)"
      ],
      "metadata": {
        "colab": {
          "base_uri": "https://localhost:8080/",
          "height": 307
        },
        "id": "AfksqAHk3c79",
        "outputId": "9d909987-7010-406a-f5b9-eeed86f62509"
      },
      "execution_count": null,
      "outputs": [
        {
          "output_type": "error",
          "ename": "AttributeError",
          "evalue": "ignored",
          "traceback": [
            "\u001b[0;31m---------------------------------------------------------------------------\u001b[0m",
            "\u001b[0;31mAttributeError\u001b[0m                            Traceback (most recent call last)",
            "\u001b[0;32m<ipython-input-10-a271e0c40641>\u001b[0m in \u001b[0;36m<cell line: 1>\u001b[0;34m()\u001b[0m\n\u001b[0;32m----> 1\u001b[0;31m \u001b[0mpd\u001b[0m\u001b[0;34m.\u001b[0m\u001b[0mread_sql_query\u001b[0m\u001b[0;34m(\u001b[0m\u001b[0;34m'SELECT seqn,gender,age,bmi,weight FROM IndividualData'\u001b[0m\u001b[0;34m,\u001b[0m \u001b[0mengine\u001b[0m\u001b[0;34m)\u001b[0m\u001b[0;34m\u001b[0m\u001b[0;34m\u001b[0m\u001b[0m\n\u001b[0m",
            "\u001b[0;32m/usr/local/lib/python3.9/dist-packages/pandas/io/sql.py\u001b[0m in \u001b[0;36mread_sql_query\u001b[0;34m(sql, con, index_col, coerce_float, params, parse_dates, chunksize, dtype)\u001b[0m\n\u001b[1;32m    395\u001b[0m     \"\"\"\n\u001b[1;32m    396\u001b[0m     \u001b[0mpandas_sql\u001b[0m \u001b[0;34m=\u001b[0m \u001b[0mpandasSQL_builder\u001b[0m\u001b[0;34m(\u001b[0m\u001b[0mcon\u001b[0m\u001b[0;34m)\u001b[0m\u001b[0;34m\u001b[0m\u001b[0;34m\u001b[0m\u001b[0m\n\u001b[0;32m--> 397\u001b[0;31m     return pandas_sql.read_query(\n\u001b[0m\u001b[1;32m    398\u001b[0m         \u001b[0msql\u001b[0m\u001b[0;34m,\u001b[0m\u001b[0;34m\u001b[0m\u001b[0;34m\u001b[0m\u001b[0m\n\u001b[1;32m    399\u001b[0m         \u001b[0mindex_col\u001b[0m\u001b[0;34m=\u001b[0m\u001b[0mindex_col\u001b[0m\u001b[0;34m,\u001b[0m\u001b[0;34m\u001b[0m\u001b[0;34m\u001b[0m\u001b[0m\n",
            "\u001b[0;32m/usr/local/lib/python3.9/dist-packages/pandas/io/sql.py\u001b[0m in \u001b[0;36mread_query\u001b[0;34m(self, sql, index_col, coerce_float, parse_dates, params, chunksize, dtype)\u001b[0m\n\u001b[1;32m   1558\u001b[0m         \u001b[0margs\u001b[0m \u001b[0;34m=\u001b[0m \u001b[0m_convert_params\u001b[0m\u001b[0;34m(\u001b[0m\u001b[0msql\u001b[0m\u001b[0;34m,\u001b[0m \u001b[0mparams\u001b[0m\u001b[0;34m)\u001b[0m\u001b[0;34m\u001b[0m\u001b[0;34m\u001b[0m\u001b[0m\n\u001b[1;32m   1559\u001b[0m \u001b[0;34m\u001b[0m\u001b[0m\n\u001b[0;32m-> 1560\u001b[0;31m         \u001b[0mresult\u001b[0m \u001b[0;34m=\u001b[0m \u001b[0mself\u001b[0m\u001b[0;34m.\u001b[0m\u001b[0mexecute\u001b[0m\u001b[0;34m(\u001b[0m\u001b[0;34m*\u001b[0m\u001b[0margs\u001b[0m\u001b[0;34m)\u001b[0m\u001b[0;34m\u001b[0m\u001b[0;34m\u001b[0m\u001b[0m\n\u001b[0m\u001b[1;32m   1561\u001b[0m         \u001b[0mcolumns\u001b[0m \u001b[0;34m=\u001b[0m \u001b[0mresult\u001b[0m\u001b[0;34m.\u001b[0m\u001b[0mkeys\u001b[0m\u001b[0;34m(\u001b[0m\u001b[0;34m)\u001b[0m\u001b[0;34m\u001b[0m\u001b[0;34m\u001b[0m\u001b[0m\n\u001b[1;32m   1562\u001b[0m \u001b[0;34m\u001b[0m\u001b[0m\n",
            "\u001b[0;32m/usr/local/lib/python3.9/dist-packages/pandas/io/sql.py\u001b[0m in \u001b[0;36mexecute\u001b[0;34m(self, *args, **kwargs)\u001b[0m\n\u001b[1;32m   1403\u001b[0m     \u001b[0;32mdef\u001b[0m \u001b[0mexecute\u001b[0m\u001b[0;34m(\u001b[0m\u001b[0mself\u001b[0m\u001b[0;34m,\u001b[0m \u001b[0;34m*\u001b[0m\u001b[0margs\u001b[0m\u001b[0;34m,\u001b[0m \u001b[0;34m**\u001b[0m\u001b[0mkwargs\u001b[0m\u001b[0;34m)\u001b[0m\u001b[0;34m:\u001b[0m\u001b[0;34m\u001b[0m\u001b[0;34m\u001b[0m\u001b[0m\n\u001b[1;32m   1404\u001b[0m         \u001b[0;34m\"\"\"Simple passthrough to SQLAlchemy connectable\"\"\"\u001b[0m\u001b[0;34m\u001b[0m\u001b[0;34m\u001b[0m\u001b[0m\n\u001b[0;32m-> 1405\u001b[0;31m         \u001b[0;32mreturn\u001b[0m \u001b[0mself\u001b[0m\u001b[0;34m.\u001b[0m\u001b[0mconnectable\u001b[0m\u001b[0;34m.\u001b[0m\u001b[0mexecution_options\u001b[0m\u001b[0;34m(\u001b[0m\u001b[0;34m)\u001b[0m\u001b[0;34m.\u001b[0m\u001b[0mexecute\u001b[0m\u001b[0;34m(\u001b[0m\u001b[0;34m*\u001b[0m\u001b[0margs\u001b[0m\u001b[0;34m,\u001b[0m \u001b[0;34m**\u001b[0m\u001b[0mkwargs\u001b[0m\u001b[0;34m)\u001b[0m\u001b[0;34m\u001b[0m\u001b[0;34m\u001b[0m\u001b[0m\n\u001b[0m\u001b[1;32m   1406\u001b[0m \u001b[0;34m\u001b[0m\u001b[0m\n\u001b[1;32m   1407\u001b[0m     def read_table(\n",
            "\u001b[0;31mAttributeError\u001b[0m: 'OptionEngine' object has no attribute 'execute'"
          ]
        }
      ]
    },
    {
      "cell_type": "code",
      "source": [
        "import pandas as pd"
      ],
      "metadata": {
        "id": "0mp33KdObX-W"
      },
      "execution_count": null,
      "outputs": []
    },
    {
      "cell_type": "code",
      "source": [
        "merged_data = pd.merge(pd.read_sql_query('SELECT seqn,gender,age,bmi,weight FROM IndividualData', engine), pd.read_sql_query('SELECT seqn,glucose, A1C_level,condition FROM glucoseData', engine), on='seqn')\n",
        "merged_data = pd.merge(merged_data, pd.read_sql_query('SELECT seqn,physical_activity_level, waist_circumference FROM physicalData',engine), on='seqn')\n",
        "merged_data = pd.merge(merged_data, pd.read_sql_query('SELECT seqn,systolic_bp,triglycerides,cholesterol FROM generalData',engine), on='seqn')"
      ],
      "metadata": {
        "id": "QyLpvU6gV4hc",
        "colab": {
          "base_uri": "https://localhost:8080/",
          "height": 249
        },
        "outputId": "e3f3a528-59c3-4189-abf2-aeea00e6a274"
      },
      "execution_count": null,
      "outputs": [
        {
          "output_type": "error",
          "ename": "NameError",
          "evalue": "ignored",
          "traceback": [
            "\u001b[0;31m---------------------------------------------------------------------------\u001b[0m",
            "\u001b[0;31mNameError\u001b[0m                                 Traceback (most recent call last)",
            "\u001b[0;32m<ipython-input-19-ba1d9687bd49>\u001b[0m in \u001b[0;36m<cell line: 1>\u001b[0;34m()\u001b[0m\n\u001b[0;32m----> 1\u001b[0;31m \u001b[0mmerged_data\u001b[0m \u001b[0;34m=\u001b[0m \u001b[0mpd\u001b[0m\u001b[0;34m.\u001b[0m\u001b[0mmerge\u001b[0m\u001b[0;34m(\u001b[0m\u001b[0mpd\u001b[0m\u001b[0;34m.\u001b[0m\u001b[0mread_sql_query\u001b[0m\u001b[0;34m(\u001b[0m\u001b[0;34m'SELECT seqn,gender,age,bmi,weight FROM IndividualData'\u001b[0m\u001b[0;34m,\u001b[0m \u001b[0mengine\u001b[0m\u001b[0;34m)\u001b[0m\u001b[0;34m,\u001b[0m \u001b[0mpd\u001b[0m\u001b[0;34m.\u001b[0m\u001b[0mread_sql_query\u001b[0m\u001b[0;34m(\u001b[0m\u001b[0;34m'SELECT seqn,glucose, A1C_level,condition FROM glucoseData'\u001b[0m\u001b[0;34m,\u001b[0m \u001b[0mengine\u001b[0m\u001b[0;34m)\u001b[0m\u001b[0;34m,\u001b[0m \u001b[0mon\u001b[0m\u001b[0;34m=\u001b[0m\u001b[0;34m'seqn'\u001b[0m\u001b[0;34m)\u001b[0m\u001b[0;34m\u001b[0m\u001b[0;34m\u001b[0m\u001b[0m\n\u001b[0m\u001b[1;32m      2\u001b[0m \u001b[0mmerged_data\u001b[0m \u001b[0;34m=\u001b[0m \u001b[0mpd\u001b[0m\u001b[0;34m.\u001b[0m\u001b[0mmerge\u001b[0m\u001b[0;34m(\u001b[0m\u001b[0mmerged_data\u001b[0m\u001b[0;34m,\u001b[0m \u001b[0mpd\u001b[0m\u001b[0;34m.\u001b[0m\u001b[0mread_sql_query\u001b[0m\u001b[0;34m(\u001b[0m\u001b[0;34m'SELECT seqn,physical_activity_level, waist_circumference FROM physicalData'\u001b[0m\u001b[0;34m,\u001b[0m\u001b[0mengine\u001b[0m\u001b[0;34m)\u001b[0m\u001b[0;34m,\u001b[0m \u001b[0mon\u001b[0m\u001b[0;34m=\u001b[0m\u001b[0;34m'seqn'\u001b[0m\u001b[0;34m)\u001b[0m\u001b[0;34m\u001b[0m\u001b[0;34m\u001b[0m\u001b[0m\n\u001b[1;32m      3\u001b[0m \u001b[0mmerged_data\u001b[0m \u001b[0;34m=\u001b[0m \u001b[0mpd\u001b[0m\u001b[0;34m.\u001b[0m\u001b[0mmerge\u001b[0m\u001b[0;34m(\u001b[0m\u001b[0mmerged_data\u001b[0m\u001b[0;34m,\u001b[0m \u001b[0mpd\u001b[0m\u001b[0;34m.\u001b[0m\u001b[0mread_sql_query\u001b[0m\u001b[0;34m(\u001b[0m\u001b[0;34m'SELECT seqn,systolic_bp,triglycerides,cholesterol FROM generalData'\u001b[0m\u001b[0;34m,\u001b[0m\u001b[0mengine\u001b[0m\u001b[0;34m)\u001b[0m\u001b[0;34m,\u001b[0m \u001b[0mon\u001b[0m\u001b[0;34m=\u001b[0m\u001b[0;34m'seqn'\u001b[0m\u001b[0;34m)\u001b[0m\u001b[0;34m\u001b[0m\u001b[0;34m\u001b[0m\u001b[0m\n",
            "\u001b[0;31mNameError\u001b[0m: name 'engine' is not defined"
          ]
        }
      ]
    },
    {
      "cell_type": "code",
      "source": [
        "x = diabetes[['gender','age','bmi','weight','triglycerides','systolic_bp','cholesterol','physical_activity_level']]\n",
        "y = diabetes['condition']"
      ],
      "metadata": {
        "id": "Z5w0sfF3uWRn"
      },
      "execution_count": null,
      "outputs": []
    },
    {
      "cell_type": "code",
      "source": [
        "from sklearn.model_selection import train_test_split\n",
        "from sklearn.metrics import confusion_matrix,classification_report"
      ],
      "metadata": {
        "id": "VAWdihG2jJKF"
      },
      "execution_count": null,
      "outputs": []
    },
    {
      "cell_type": "code",
      "source": [
        "X_train, X_test, y_train, y_test = train_test_split(x,y,test_size=0.4, random_state=42)"
      ],
      "metadata": {
        "id": "jxomKYBrjPX1"
      },
      "execution_count": null,
      "outputs": []
    },
    {
      "cell_type": "code",
      "source": [
        "from sklearn.tree import DecisionTreeClassifier\n",
        "from sklearn.ensemble import RandomForestClassifier\n",
        "from sklearn.linear_model import LogisticRegression"
      ],
      "metadata": {
        "id": "j047tgRZA1-1"
      },
      "execution_count": null,
      "outputs": []
    },
    {
      "cell_type": "code",
      "source": [
        "dt = DecisionTreeClassifier()\n",
        "dt.fit(X_train,y_train)\n",
        "pred = dt.predict(X_test)\n",
        "print(classification_report(y_test, pred))\n",
        "print(confusion_matrix(y_test,pred))"
      ],
      "metadata": {
        "colab": {
          "base_uri": "https://localhost:8080/"
        },
        "id": "xzqi9L7pqEQm",
        "outputId": "eaab39be-49ad-4138-9334-7fdbe1206f86"
      },
      "execution_count": null,
      "outputs": [
        {
          "output_type": "stream",
          "name": "stdout",
          "text": [
            "              precision    recall  f1-score   support\n",
            "\n",
            "           0       0.63      0.61      0.62       289\n",
            "           1       0.69      0.71      0.70       537\n",
            "           2       0.30      0.29      0.29       125\n",
            "\n",
            "    accuracy                           0.62       951\n",
            "   macro avg       0.54      0.54      0.54       951\n",
            "weighted avg       0.62      0.62      0.62       951\n",
            "\n",
            "[[177 101  11]\n",
            " [ 82 380  75]\n",
            " [ 21  68  36]]\n"
          ]
        }
      ]
    },
    {
      "cell_type": "code",
      "source": [
        "test = {'gender':1,'age': 40, 'bmi':31.3,'weight': 140,'triglycerides':100, 'systolic_bp' : 150,'cholesterol':100,'physical_activity_level':1 }"
      ],
      "metadata": {
        "id": "9vM14Q7Au0ai"
      },
      "execution_count": null,
      "outputs": []
    },
    {
      "cell_type": "code",
      "source": [
        "x"
      ],
      "metadata": {
        "colab": {
          "base_uri": "https://localhost:8080/",
          "height": 419
        },
        "id": "qDcdAHl9tpqa",
        "outputId": "43ec1012-802f-4745-a47d-58d3c08abcd5"
      },
      "execution_count": null,
      "outputs": [
        {
          "output_type": "execute_result",
          "data": {
            "text/plain": [
              "       gender  age   bmi  weight  triglycerides  systolic_bp  cholesterol  \\\n",
              "0           1   22  23.3    69.2          110.0        110.0        168.0   \n",
              "2           2   44  23.2    67.2          151.0        116.0        190.0   \n",
              "4           1   21  20.1    54.6           73.0        124.0        132.0   \n",
              "7           2   43  33.3    98.6           68.0        100.0        169.0   \n",
              "13          1   51  20.1    57.3          130.0        152.0        198.0   \n",
              "...       ...  ...   ...     ...            ...          ...          ...   \n",
              "10685       2   65  29.4    70.3           80.0        152.0        162.0   \n",
              "10690       2   48  59.7   140.4          109.0        124.0        187.0   \n",
              "10699       1   28  29.4    92.3           87.0        124.0        151.0   \n",
              "10700       1   27  31.3    96.7          155.0        122.0        221.0   \n",
              "10704       1   60  27.5    78.4          110.0        150.0        191.0   \n",
              "\n",
              "       physical_activity_level  \n",
              "0                          2.0  \n",
              "2                          1.0  \n",
              "4                          2.0  \n",
              "7                          2.0  \n",
              "13                         2.0  \n",
              "...                        ...  \n",
              "10685                      2.0  \n",
              "10690                      2.0  \n",
              "10699                      2.0  \n",
              "10700                      1.0  \n",
              "10704                      2.0  \n",
              "\n",
              "[2376 rows x 8 columns]"
            ],
            "text/html": [
              "\n",
              "  <div id=\"df-9d172943-3983-4a03-b0c9-1ce157575a1e\">\n",
              "    <div class=\"colab-df-container\">\n",
              "      <div>\n",
              "<style scoped>\n",
              "    .dataframe tbody tr th:only-of-type {\n",
              "        vertical-align: middle;\n",
              "    }\n",
              "\n",
              "    .dataframe tbody tr th {\n",
              "        vertical-align: top;\n",
              "    }\n",
              "\n",
              "    .dataframe thead th {\n",
              "        text-align: right;\n",
              "    }\n",
              "</style>\n",
              "<table border=\"1\" class=\"dataframe\">\n",
              "  <thead>\n",
              "    <tr style=\"text-align: right;\">\n",
              "      <th></th>\n",
              "      <th>gender</th>\n",
              "      <th>age</th>\n",
              "      <th>bmi</th>\n",
              "      <th>weight</th>\n",
              "      <th>triglycerides</th>\n",
              "      <th>systolic_bp</th>\n",
              "      <th>cholesterol</th>\n",
              "      <th>physical_activity_level</th>\n",
              "    </tr>\n",
              "  </thead>\n",
              "  <tbody>\n",
              "    <tr>\n",
              "      <th>0</th>\n",
              "      <td>1</td>\n",
              "      <td>22</td>\n",
              "      <td>23.3</td>\n",
              "      <td>69.2</td>\n",
              "      <td>110.0</td>\n",
              "      <td>110.0</td>\n",
              "      <td>168.0</td>\n",
              "      <td>2.0</td>\n",
              "    </tr>\n",
              "    <tr>\n",
              "      <th>2</th>\n",
              "      <td>2</td>\n",
              "      <td>44</td>\n",
              "      <td>23.2</td>\n",
              "      <td>67.2</td>\n",
              "      <td>151.0</td>\n",
              "      <td>116.0</td>\n",
              "      <td>190.0</td>\n",
              "      <td>1.0</td>\n",
              "    </tr>\n",
              "    <tr>\n",
              "      <th>4</th>\n",
              "      <td>1</td>\n",
              "      <td>21</td>\n",
              "      <td>20.1</td>\n",
              "      <td>54.6</td>\n",
              "      <td>73.0</td>\n",
              "      <td>124.0</td>\n",
              "      <td>132.0</td>\n",
              "      <td>2.0</td>\n",
              "    </tr>\n",
              "    <tr>\n",
              "      <th>7</th>\n",
              "      <td>2</td>\n",
              "      <td>43</td>\n",
              "      <td>33.3</td>\n",
              "      <td>98.6</td>\n",
              "      <td>68.0</td>\n",
              "      <td>100.0</td>\n",
              "      <td>169.0</td>\n",
              "      <td>2.0</td>\n",
              "    </tr>\n",
              "    <tr>\n",
              "      <th>13</th>\n",
              "      <td>1</td>\n",
              "      <td>51</td>\n",
              "      <td>20.1</td>\n",
              "      <td>57.3</td>\n",
              "      <td>130.0</td>\n",
              "      <td>152.0</td>\n",
              "      <td>198.0</td>\n",
              "      <td>2.0</td>\n",
              "    </tr>\n",
              "    <tr>\n",
              "      <th>...</th>\n",
              "      <td>...</td>\n",
              "      <td>...</td>\n",
              "      <td>...</td>\n",
              "      <td>...</td>\n",
              "      <td>...</td>\n",
              "      <td>...</td>\n",
              "      <td>...</td>\n",
              "      <td>...</td>\n",
              "    </tr>\n",
              "    <tr>\n",
              "      <th>10685</th>\n",
              "      <td>2</td>\n",
              "      <td>65</td>\n",
              "      <td>29.4</td>\n",
              "      <td>70.3</td>\n",
              "      <td>80.0</td>\n",
              "      <td>152.0</td>\n",
              "      <td>162.0</td>\n",
              "      <td>2.0</td>\n",
              "    </tr>\n",
              "    <tr>\n",
              "      <th>10690</th>\n",
              "      <td>2</td>\n",
              "      <td>48</td>\n",
              "      <td>59.7</td>\n",
              "      <td>140.4</td>\n",
              "      <td>109.0</td>\n",
              "      <td>124.0</td>\n",
              "      <td>187.0</td>\n",
              "      <td>2.0</td>\n",
              "    </tr>\n",
              "    <tr>\n",
              "      <th>10699</th>\n",
              "      <td>1</td>\n",
              "      <td>28</td>\n",
              "      <td>29.4</td>\n",
              "      <td>92.3</td>\n",
              "      <td>87.0</td>\n",
              "      <td>124.0</td>\n",
              "      <td>151.0</td>\n",
              "      <td>2.0</td>\n",
              "    </tr>\n",
              "    <tr>\n",
              "      <th>10700</th>\n",
              "      <td>1</td>\n",
              "      <td>27</td>\n",
              "      <td>31.3</td>\n",
              "      <td>96.7</td>\n",
              "      <td>155.0</td>\n",
              "      <td>122.0</td>\n",
              "      <td>221.0</td>\n",
              "      <td>1.0</td>\n",
              "    </tr>\n",
              "    <tr>\n",
              "      <th>10704</th>\n",
              "      <td>1</td>\n",
              "      <td>60</td>\n",
              "      <td>27.5</td>\n",
              "      <td>78.4</td>\n",
              "      <td>110.0</td>\n",
              "      <td>150.0</td>\n",
              "      <td>191.0</td>\n",
              "      <td>2.0</td>\n",
              "    </tr>\n",
              "  </tbody>\n",
              "</table>\n",
              "<p>2376 rows × 8 columns</p>\n",
              "</div>\n",
              "      <button class=\"colab-df-convert\" onclick=\"convertToInteractive('df-9d172943-3983-4a03-b0c9-1ce157575a1e')\"\n",
              "              title=\"Convert this dataframe to an interactive table.\"\n",
              "              style=\"display:none;\">\n",
              "        \n",
              "  <svg xmlns=\"http://www.w3.org/2000/svg\" height=\"24px\"viewBox=\"0 0 24 24\"\n",
              "       width=\"24px\">\n",
              "    <path d=\"M0 0h24v24H0V0z\" fill=\"none\"/>\n",
              "    <path d=\"M18.56 5.44l.94 2.06.94-2.06 2.06-.94-2.06-.94-.94-2.06-.94 2.06-2.06.94zm-11 1L8.5 8.5l.94-2.06 2.06-.94-2.06-.94L8.5 2.5l-.94 2.06-2.06.94zm10 10l.94 2.06.94-2.06 2.06-.94-2.06-.94-.94-2.06-.94 2.06-2.06.94z\"/><path d=\"M17.41 7.96l-1.37-1.37c-.4-.4-.92-.59-1.43-.59-.52 0-1.04.2-1.43.59L10.3 9.45l-7.72 7.72c-.78.78-.78 2.05 0 2.83L4 21.41c.39.39.9.59 1.41.59.51 0 1.02-.2 1.41-.59l7.78-7.78 2.81-2.81c.8-.78.8-2.07 0-2.86zM5.41 20L4 18.59l7.72-7.72 1.47 1.35L5.41 20z\"/>\n",
              "  </svg>\n",
              "      </button>\n",
              "      \n",
              "  <style>\n",
              "    .colab-df-container {\n",
              "      display:flex;\n",
              "      flex-wrap:wrap;\n",
              "      gap: 12px;\n",
              "    }\n",
              "\n",
              "    .colab-df-convert {\n",
              "      background-color: #E8F0FE;\n",
              "      border: none;\n",
              "      border-radius: 50%;\n",
              "      cursor: pointer;\n",
              "      display: none;\n",
              "      fill: #1967D2;\n",
              "      height: 32px;\n",
              "      padding: 0 0 0 0;\n",
              "      width: 32px;\n",
              "    }\n",
              "\n",
              "    .colab-df-convert:hover {\n",
              "      background-color: #E2EBFA;\n",
              "      box-shadow: 0px 1px 2px rgba(60, 64, 67, 0.3), 0px 1px 3px 1px rgba(60, 64, 67, 0.15);\n",
              "      fill: #174EA6;\n",
              "    }\n",
              "\n",
              "    [theme=dark] .colab-df-convert {\n",
              "      background-color: #3B4455;\n",
              "      fill: #D2E3FC;\n",
              "    }\n",
              "\n",
              "    [theme=dark] .colab-df-convert:hover {\n",
              "      background-color: #434B5C;\n",
              "      box-shadow: 0px 1px 3px 1px rgba(0, 0, 0, 0.15);\n",
              "      filter: drop-shadow(0px 1px 2px rgba(0, 0, 0, 0.3));\n",
              "      fill: #FFFFFF;\n",
              "    }\n",
              "  </style>\n",
              "\n",
              "      <script>\n",
              "        const buttonEl =\n",
              "          document.querySelector('#df-9d172943-3983-4a03-b0c9-1ce157575a1e button.colab-df-convert');\n",
              "        buttonEl.style.display =\n",
              "          google.colab.kernel.accessAllowed ? 'block' : 'none';\n",
              "\n",
              "        async function convertToInteractive(key) {\n",
              "          const element = document.querySelector('#df-9d172943-3983-4a03-b0c9-1ce157575a1e');\n",
              "          const dataTable =\n",
              "            await google.colab.kernel.invokeFunction('convertToInteractive',\n",
              "                                                     [key], {});\n",
              "          if (!dataTable) return;\n",
              "\n",
              "          const docLinkHtml = 'Like what you see? Visit the ' +\n",
              "            '<a target=\"_blank\" href=https://colab.research.google.com/notebooks/data_table.ipynb>data table notebook</a>'\n",
              "            + ' to learn more about interactive tables.';\n",
              "          element.innerHTML = '';\n",
              "          dataTable['output_type'] = 'display_data';\n",
              "          await google.colab.output.renderOutput(dataTable, element);\n",
              "          const docLink = document.createElement('div');\n",
              "          docLink.innerHTML = docLinkHtml;\n",
              "          element.appendChild(docLink);\n",
              "        }\n",
              "      </script>\n",
              "    </div>\n",
              "  </div>\n",
              "  "
            ]
          },
          "metadata": {},
          "execution_count": 26
        }
      ]
    },
    {
      "cell_type": "code",
      "source": [
        "dt.predict(pd.DataFrame(test,index = ['0']))"
      ],
      "metadata": {
        "colab": {
          "base_uri": "https://localhost:8080/"
        },
        "id": "QW_teWkHtMjI",
        "outputId": "e22e95b2-2f07-4512-a73f-63a9f209b05b"
      },
      "execution_count": null,
      "outputs": [
        {
          "output_type": "execute_result",
          "data": {
            "text/plain": [
              "array([0])"
            ]
          },
          "metadata": {},
          "execution_count": 28
        }
      ]
    },
    {
      "cell_type": "code",
      "source": [
        "import joblib\n",
        "\n",
        "joblib.dump(dt, 'Diabetes_prediction.joblib', compress = True)"
      ],
      "metadata": {
        "colab": {
          "base_uri": "https://localhost:8080/"
        },
        "id": "oj3qq0ySdTzz",
        "outputId": "3030a82d-57bd-4c6f-82fe-f23e76d3e5ae"
      },
      "execution_count": null,
      "outputs": [
        {
          "output_type": "execute_result",
          "data": {
            "text/plain": [
              "['Diabetes_prediction.joblib']"
            ]
          },
          "metadata": {},
          "execution_count": 29
        }
      ]
    },
    {
      "cell_type": "code",
      "source": [
        "import pickle\n",
        "\n"
      ],
      "metadata": {
        "id": "tmokouQlqgu4"
      },
      "execution_count": null,
      "outputs": []
    },
    {
      "cell_type": "code",
      "source": [
        "with open('classifier.pkl', 'wb') as f:\n",
        "    pickle.dump(dt, f)"
      ],
      "metadata": {
        "id": "BovIn-MxrFSS"
      },
      "execution_count": null,
      "outputs": []
    },
    {
      "cell_type": "code",
      "source": [
        "stats_data = pd.read_csv('/content/IDF (people-with-diabetes--in-1-000s).csv')"
      ],
      "metadata": {
        "id": "rta-55xYZBhH"
      },
      "execution_count": null,
      "outputs": []
    },
    {
      "cell_type": "code",
      "source": [
        "stats_data.replace('-',0).to_csv('stats_data.csv')"
      ],
      "metadata": {
        "id": "LG5RL7slZdUh"
      },
      "execution_count": null,
      "outputs": []
    },
    {
      "cell_type": "code",
      "source": [
        "df3=pd.read_json('https://cdn.jsdelivr.net/gh/highcharts/highcharts@v7.0.0/samples/data/world-population-density.json')"
      ],
      "metadata": {
        "id": "yFr6v6897g8W"
      },
      "execution_count": null,
      "outputs": []
    },
    {
      "cell_type": "code",
      "source": [
        "stats_data= stats_data.replace('-',0)"
      ],
      "metadata": {
        "id": "RqG6F9Qx7su9"
      },
      "execution_count": null,
      "outputs": []
    },
    {
      "cell_type": "code",
      "source": [
        "df2['Country/Region']= ['United States' if x == 'United States of America' else x for x in df2['Country/Region']]"
      ],
      "metadata": {
        "id": "g7QeTFxl_w9u"
      },
      "execution_count": null,
      "outputs": []
    },
    {
      "cell_type": "code",
      "source": [
        "stats_data.sort_values('Country/Territory', axis = 0, ascending=False)"
      ],
      "metadata": {
        "colab": {
          "base_uri": "https://localhost:8080/",
          "height": 640
        },
        "id": "q3FIM8JLAb6P",
        "outputId": "33d2b04a-f814-4c5a-fa66-f5bce1182d6b"
      },
      "execution_count": null,
      "outputs": [
        {
          "output_type": "execute_result",
          "data": {
            "text/plain": [
              "       #                        Region Country/Territory      2000       2011  \\\n",
              "230  231                        Africa          Zimbabwe      55.4      550.9   \n",
              "229  230                        Africa            Zambia      40.8      243.8   \n",
              "228  229  Middle East and North Africa             Yemen         0      727.1   \n",
              "6      7               Western Pacific   Western Pacific  44,097.9  131,895.1   \n",
              "227  228               Western Pacific          Viet Nam         0    1,702.7   \n",
              "..   ...                           ...               ...       ...        ...   \n",
              "10    11               Western Pacific    American Samoa         0          0   \n",
              "9     10  Middle East and North Africa           Algeria         0    1,435.1   \n",
              "8      9                        Europe           Albania      94.3       64.1   \n",
              "0      1                        Africa            Africa   2,532.9   14,700.0   \n",
              "7      8  Middle East and North Africa       Afghanistan         0      818.3   \n",
              "\n",
              "          2021       2030       2045     Type  \n",
              "230      106.4      142.7      231.5  Country  \n",
              "229      726.3    1,098.2    2,045.3  Country  \n",
              "228      613.9      897.8    1,507.1  Country  \n",
              "6    205,640.2  238,300.0  260,200.0   Region  \n",
              "227    3,994.1    4,961.6    6,015.3  Country  \n",
              "..         ...        ...        ...      ...  \n",
              "10         7.8        8.4        8.9  Country  \n",
              "9      2,013.0    2,527.5    3,497.9  Country  \n",
              "8        241.1      261.4      258.2  Country  \n",
              "0     23,633.9   33,446.0   55,254.4   Region  \n",
              "7      1,606.7    2,172.8    3,530.7  Country  \n",
              "\n",
              "[231 rows x 9 columns]"
            ],
            "text/html": [
              "\n",
              "  <div id=\"df-f3f5ab83-fa14-4083-943a-7665eed3ed69\">\n",
              "    <div class=\"colab-df-container\">\n",
              "      <div>\n",
              "<style scoped>\n",
              "    .dataframe tbody tr th:only-of-type {\n",
              "        vertical-align: middle;\n",
              "    }\n",
              "\n",
              "    .dataframe tbody tr th {\n",
              "        vertical-align: top;\n",
              "    }\n",
              "\n",
              "    .dataframe thead th {\n",
              "        text-align: right;\n",
              "    }\n",
              "</style>\n",
              "<table border=\"1\" class=\"dataframe\">\n",
              "  <thead>\n",
              "    <tr style=\"text-align: right;\">\n",
              "      <th></th>\n",
              "      <th>#</th>\n",
              "      <th>Region</th>\n",
              "      <th>Country/Territory</th>\n",
              "      <th>2000</th>\n",
              "      <th>2011</th>\n",
              "      <th>2021</th>\n",
              "      <th>2030</th>\n",
              "      <th>2045</th>\n",
              "      <th>Type</th>\n",
              "    </tr>\n",
              "  </thead>\n",
              "  <tbody>\n",
              "    <tr>\n",
              "      <th>230</th>\n",
              "      <td>231</td>\n",
              "      <td>Africa</td>\n",
              "      <td>Zimbabwe</td>\n",
              "      <td>55.4</td>\n",
              "      <td>550.9</td>\n",
              "      <td>106.4</td>\n",
              "      <td>142.7</td>\n",
              "      <td>231.5</td>\n",
              "      <td>Country</td>\n",
              "    </tr>\n",
              "    <tr>\n",
              "      <th>229</th>\n",
              "      <td>230</td>\n",
              "      <td>Africa</td>\n",
              "      <td>Zambia</td>\n",
              "      <td>40.8</td>\n",
              "      <td>243.8</td>\n",
              "      <td>726.3</td>\n",
              "      <td>1,098.2</td>\n",
              "      <td>2,045.3</td>\n",
              "      <td>Country</td>\n",
              "    </tr>\n",
              "    <tr>\n",
              "      <th>228</th>\n",
              "      <td>229</td>\n",
              "      <td>Middle East and North Africa</td>\n",
              "      <td>Yemen</td>\n",
              "      <td>0</td>\n",
              "      <td>727.1</td>\n",
              "      <td>613.9</td>\n",
              "      <td>897.8</td>\n",
              "      <td>1,507.1</td>\n",
              "      <td>Country</td>\n",
              "    </tr>\n",
              "    <tr>\n",
              "      <th>6</th>\n",
              "      <td>7</td>\n",
              "      <td>Western Pacific</td>\n",
              "      <td>Western Pacific</td>\n",
              "      <td>44,097.9</td>\n",
              "      <td>131,895.1</td>\n",
              "      <td>205,640.2</td>\n",
              "      <td>238,300.0</td>\n",
              "      <td>260,200.0</td>\n",
              "      <td>Region</td>\n",
              "    </tr>\n",
              "    <tr>\n",
              "      <th>227</th>\n",
              "      <td>228</td>\n",
              "      <td>Western Pacific</td>\n",
              "      <td>Viet Nam</td>\n",
              "      <td>0</td>\n",
              "      <td>1,702.7</td>\n",
              "      <td>3,994.1</td>\n",
              "      <td>4,961.6</td>\n",
              "      <td>6,015.3</td>\n",
              "      <td>Country</td>\n",
              "    </tr>\n",
              "    <tr>\n",
              "      <th>...</th>\n",
              "      <td>...</td>\n",
              "      <td>...</td>\n",
              "      <td>...</td>\n",
              "      <td>...</td>\n",
              "      <td>...</td>\n",
              "      <td>...</td>\n",
              "      <td>...</td>\n",
              "      <td>...</td>\n",
              "      <td>...</td>\n",
              "    </tr>\n",
              "    <tr>\n",
              "      <th>10</th>\n",
              "      <td>11</td>\n",
              "      <td>Western Pacific</td>\n",
              "      <td>American Samoa</td>\n",
              "      <td>0</td>\n",
              "      <td>0</td>\n",
              "      <td>7.8</td>\n",
              "      <td>8.4</td>\n",
              "      <td>8.9</td>\n",
              "      <td>Country</td>\n",
              "    </tr>\n",
              "    <tr>\n",
              "      <th>9</th>\n",
              "      <td>10</td>\n",
              "      <td>Middle East and North Africa</td>\n",
              "      <td>Algeria</td>\n",
              "      <td>0</td>\n",
              "      <td>1,435.1</td>\n",
              "      <td>2,013.0</td>\n",
              "      <td>2,527.5</td>\n",
              "      <td>3,497.9</td>\n",
              "      <td>Country</td>\n",
              "    </tr>\n",
              "    <tr>\n",
              "      <th>8</th>\n",
              "      <td>9</td>\n",
              "      <td>Europe</td>\n",
              "      <td>Albania</td>\n",
              "      <td>94.3</td>\n",
              "      <td>64.1</td>\n",
              "      <td>241.1</td>\n",
              "      <td>261.4</td>\n",
              "      <td>258.2</td>\n",
              "      <td>Country</td>\n",
              "    </tr>\n",
              "    <tr>\n",
              "      <th>0</th>\n",
              "      <td>1</td>\n",
              "      <td>Africa</td>\n",
              "      <td>Africa</td>\n",
              "      <td>2,532.9</td>\n",
              "      <td>14,700.0</td>\n",
              "      <td>23,633.9</td>\n",
              "      <td>33,446.0</td>\n",
              "      <td>55,254.4</td>\n",
              "      <td>Region</td>\n",
              "    </tr>\n",
              "    <tr>\n",
              "      <th>7</th>\n",
              "      <td>8</td>\n",
              "      <td>Middle East and North Africa</td>\n",
              "      <td>Afghanistan</td>\n",
              "      <td>0</td>\n",
              "      <td>818.3</td>\n",
              "      <td>1,606.7</td>\n",
              "      <td>2,172.8</td>\n",
              "      <td>3,530.7</td>\n",
              "      <td>Country</td>\n",
              "    </tr>\n",
              "  </tbody>\n",
              "</table>\n",
              "<p>231 rows × 9 columns</p>\n",
              "</div>\n",
              "      <button class=\"colab-df-convert\" onclick=\"convertToInteractive('df-f3f5ab83-fa14-4083-943a-7665eed3ed69')\"\n",
              "              title=\"Convert this dataframe to an interactive table.\"\n",
              "              style=\"display:none;\">\n",
              "        \n",
              "  <svg xmlns=\"http://www.w3.org/2000/svg\" height=\"24px\"viewBox=\"0 0 24 24\"\n",
              "       width=\"24px\">\n",
              "    <path d=\"M0 0h24v24H0V0z\" fill=\"none\"/>\n",
              "    <path d=\"M18.56 5.44l.94 2.06.94-2.06 2.06-.94-2.06-.94-.94-2.06-.94 2.06-2.06.94zm-11 1L8.5 8.5l.94-2.06 2.06-.94-2.06-.94L8.5 2.5l-.94 2.06-2.06.94zm10 10l.94 2.06.94-2.06 2.06-.94-2.06-.94-.94-2.06-.94 2.06-2.06.94z\"/><path d=\"M17.41 7.96l-1.37-1.37c-.4-.4-.92-.59-1.43-.59-.52 0-1.04.2-1.43.59L10.3 9.45l-7.72 7.72c-.78.78-.78 2.05 0 2.83L4 21.41c.39.39.9.59 1.41.59.51 0 1.02-.2 1.41-.59l7.78-7.78 2.81-2.81c.8-.78.8-2.07 0-2.86zM5.41 20L4 18.59l7.72-7.72 1.47 1.35L5.41 20z\"/>\n",
              "  </svg>\n",
              "      </button>\n",
              "      \n",
              "  <style>\n",
              "    .colab-df-container {\n",
              "      display:flex;\n",
              "      flex-wrap:wrap;\n",
              "      gap: 12px;\n",
              "    }\n",
              "\n",
              "    .colab-df-convert {\n",
              "      background-color: #E8F0FE;\n",
              "      border: none;\n",
              "      border-radius: 50%;\n",
              "      cursor: pointer;\n",
              "      display: none;\n",
              "      fill: #1967D2;\n",
              "      height: 32px;\n",
              "      padding: 0 0 0 0;\n",
              "      width: 32px;\n",
              "    }\n",
              "\n",
              "    .colab-df-convert:hover {\n",
              "      background-color: #E2EBFA;\n",
              "      box-shadow: 0px 1px 2px rgba(60, 64, 67, 0.3), 0px 1px 3px 1px rgba(60, 64, 67, 0.15);\n",
              "      fill: #174EA6;\n",
              "    }\n",
              "\n",
              "    [theme=dark] .colab-df-convert {\n",
              "      background-color: #3B4455;\n",
              "      fill: #D2E3FC;\n",
              "    }\n",
              "\n",
              "    [theme=dark] .colab-df-convert:hover {\n",
              "      background-color: #434B5C;\n",
              "      box-shadow: 0px 1px 3px 1px rgba(0, 0, 0, 0.15);\n",
              "      filter: drop-shadow(0px 1px 2px rgba(0, 0, 0, 0.3));\n",
              "      fill: #FFFFFF;\n",
              "    }\n",
              "  </style>\n",
              "\n",
              "      <script>\n",
              "        const buttonEl =\n",
              "          document.querySelector('#df-f3f5ab83-fa14-4083-943a-7665eed3ed69 button.colab-df-convert');\n",
              "        buttonEl.style.display =\n",
              "          google.colab.kernel.accessAllowed ? 'block' : 'none';\n",
              "\n",
              "        async function convertToInteractive(key) {\n",
              "          const element = document.querySelector('#df-f3f5ab83-fa14-4083-943a-7665eed3ed69');\n",
              "          const dataTable =\n",
              "            await google.colab.kernel.invokeFunction('convertToInteractive',\n",
              "                                                     [key], {});\n",
              "          if (!dataTable) return;\n",
              "\n",
              "          const docLinkHtml = 'Like what you see? Visit the ' +\n",
              "            '<a target=\"_blank\" href=https://colab.research.google.com/notebooks/data_table.ipynb>data table notebook</a>'\n",
              "            + ' to learn more about interactive tables.';\n",
              "          element.innerHTML = '';\n",
              "          dataTable['output_type'] = 'display_data';\n",
              "          await google.colab.output.renderOutput(dataTable, element);\n",
              "          const docLink = document.createElement('div');\n",
              "          docLink.innerHTML = docLinkHtml;\n",
              "          element.appendChild(docLink);\n",
              "        }\n",
              "      </script>\n",
              "    </div>\n",
              "  </div>\n",
              "  "
            ]
          },
          "metadata": {},
          "execution_count": 48
        }
      ]
    },
    {
      "cell_type": "code",
      "source": [
        "stats_data.columns"
      ],
      "metadata": {
        "colab": {
          "base_uri": "https://localhost:8080/"
        },
        "id": "pWelsjb_8TA5",
        "outputId": "14dca3d4-90fe-4513-b7da-8e63685614c0"
      },
      "execution_count": null,
      "outputs": [
        {
          "output_type": "execute_result",
          "data": {
            "text/plain": [
              "Index(['#', 'Region', 'Country/Territory', '2000', '2011', '2021', '2030',\n",
              "       '2045', 'Type'],\n",
              "      dtype='object')"
            ]
          },
          "metadata": {},
          "execution_count": 8
        }
      ]
    },
    {
      "cell_type": "code",
      "source": [],
      "metadata": {
        "id": "zq3gJ8eX_YVV"
      },
      "execution_count": null,
      "outputs": []
    },
    {
      "cell_type": "code",
      "source": [
        "df2= stats_data[['Country/Territory','2021']]\n",
        "df2.columns=['Country/Region','values']"
      ],
      "metadata": {
        "id": "FQRaQAUP8JVn"
      },
      "execution_count": null,
      "outputs": []
    },
    {
      "cell_type": "code",
      "source": [
        "uniqueCountryNames=pd.unique(df2['Country/Region'])"
      ],
      "metadata": {
        "id": "RD949bV182MZ"
      },
      "execution_count": null,
      "outputs": []
    },
    {
      "cell_type": "code",
      "source": [
        "df3.columns"
      ],
      "metadata": {
        "colab": {
          "base_uri": "https://localhost:8080/"
        },
        "id": "BESQRl6R9tpj",
        "outputId": "6474dde4-b71e-4ce3-e10f-4b24c37d11a9"
      },
      "execution_count": null,
      "outputs": [
        {
          "output_type": "execute_result",
          "data": {
            "text/plain": [
              "Index(['code3', 'name', 'value', 'code'], dtype='object')"
            ]
          },
          "metadata": {},
          "execution_count": 17
        }
      ]
    },
    {
      "cell_type": "code",
      "source": [
        "df3.iloc[200]['name']"
      ],
      "metadata": {
        "colab": {
          "base_uri": "https://localhost:8080/",
          "height": 35
        },
        "id": "34xKwHvP9Zz0",
        "outputId": "487e970c-44a6-496c-8a46-86aa8d3b4c15"
      },
      "execution_count": null,
      "outputs": [
        {
          "output_type": "execute_result",
          "data": {
            "text/plain": [
              "'United States'"
            ],
            "application/vnd.google.colaboratory.intrinsic+json": {
              "type": "string"
            }
          },
          "metadata": {},
          "execution_count": 37
        }
      ]
    },
    {
      "cell_type": "code",
      "source": [
        "uniqueCountryNames = pd.unique(df2['Country/Region'])"
      ],
      "metadata": {
        "id": "MRrijeEv-tvj"
      },
      "execution_count": null,
      "outputs": []
    },
    {
      "cell_type": "code",
      "source": [
        "type(uniqueCountryNames)"
      ],
      "metadata": {
        "colab": {
          "base_uri": "https://localhost:8080/"
        },
        "id": "HYe1jpV1-yHF",
        "outputId": "45d1d4a7-09b8-44ad-ae98-ce828c6604f2"
      },
      "execution_count": null,
      "outputs": [
        {
          "output_type": "execute_result",
          "data": {
            "text/plain": [
              "numpy.ndarray"
            ]
          },
          "metadata": {},
          "execution_count": 30
        }
      ]
    },
    {
      "cell_type": "code",
      "source": [
        "uniqueCountryNames = np.array(['United States' if x == 'United States of America' else x for x in uniqueCountryNames])"
      ],
      "metadata": {
        "id": "OBu2oztq82--"
      },
      "execution_count": null,
      "outputs": []
    },
    {
      "cell_type": "code",
      "source": [
        "type((uniqueCountryNames))"
      ],
      "metadata": {
        "colab": {
          "base_uri": "https://localhost:8080/"
        },
        "id": "00Hksx7t-fiQ",
        "outputId": "2840b5e1-aab1-4d42-e0ce-e3c9577d8a66"
      },
      "execution_count": null,
      "outputs": [
        {
          "output_type": "execute_result",
          "data": {
            "text/plain": [
              "numpy.ndarray"
            ]
          },
          "metadata": {},
          "execution_count": 35
        }
      ]
    },
    {
      "cell_type": "code",
      "source": [
        "\n",
        "\n",
        "dataForMapGraph=[]\n",
        "for i in uniqueCountryNames:\n",
        "    try:\n",
        "        tempdf=df3[df3['name']==i]\n",
        "        temp={}\n",
        "        temp[\"code3\"]=list(tempdf['code3'].values)[0]\n",
        "        temp[\"name\"]=i\n",
        "        temp[\"value\"]=df2[df2['Country/Region']==i]['values'].sum()\n",
        "        temp[\"code\"]=list(tempdf['code'].values)[0]\n",
        "        dataForMapGraph.append(temp)\n",
        "    except:\n",
        "        pass"
      ],
      "metadata": {
        "id": "m20VmCx87-oJ"
      },
      "execution_count": null,
      "outputs": []
    },
    {
      "cell_type": "markdown",
      "source": [
        "#PIE CHART"
      ],
      "metadata": {
        "id": "43_TCDDVjyr4"
      }
    },
    {
      "cell_type": "code",
      "source": [
        "data = pd.read_csv('/content/diabetes-2.csv')"
      ],
      "metadata": {
        "id": "dAr3m1D1j1Mm"
      },
      "execution_count": null,
      "outputs": []
    },
    {
      "cell_type": "code",
      "source": [
        "data.head()"
      ],
      "metadata": {
        "colab": {
          "base_uri": "https://localhost:8080/",
          "height": 285
        },
        "id": "nbSnFCzIzt3S",
        "outputId": "d2c05cfe-38ed-4488-a430-6dc369b20151"
      },
      "execution_count": null,
      "outputs": [
        {
          "output_type": "execute_result",
          "data": {
            "text/plain": [
              "   Unnamed: 0   seqn  gender  age  race_ethnicity  annual_income   bmi  \\\n",
              "0           0  62161       1   22               3           14.0  23.3   \n",
              "1           2  62164       2   44               3            8.0  23.2   \n",
              "2           4  62169       1   21               5            2.0  20.1   \n",
              "3           7  62172       2   43               4            5.0  33.3   \n",
              "4          13  62177       1   51               5           77.0  20.1   \n",
              "\n",
              "   weight  height  systolic_bp  diastolic_bp  glucose  triglycerides  \\\n",
              "0    69.2   172.3        110.0          82.0     92.0          110.0   \n",
              "1    67.2   170.1        116.0          56.0     82.0          151.0   \n",
              "2    54.6   164.8        124.0          80.0    107.0           73.0   \n",
              "3    98.6   172.0        100.0          70.0    104.0           68.0   \n",
              "4    57.3   168.9        152.0          68.0     95.0          130.0   \n",
              "\n",
              "   hdl_cholesterol  waist_circumference  physical_activity_level  cholesterol  \\\n",
              "0             41.0                 68.0                      2.0        168.0   \n",
              "1             28.0                 66.0                      1.0        190.0   \n",
              "2             43.0                 64.0                      2.0        132.0   \n",
              "3             73.0                 67.0                      2.0        169.0   \n",
              "4             43.0                 67.0                      2.0        198.0   \n",
              "\n",
              "   coffee_tea_added_sugar  A1C_level  condition  \n",
              "0                       2        5.1          0  \n",
              "1                       2        4.9          0  \n",
              "2                       2        5.4          1  \n",
              "3                       2        5.6          1  \n",
              "4                       2        5.8          1  "
            ],
            "text/html": [
              "\n",
              "  <div id=\"df-93815396-08a3-47a4-9687-1ba36d565c63\">\n",
              "    <div class=\"colab-df-container\">\n",
              "      <div>\n",
              "<style scoped>\n",
              "    .dataframe tbody tr th:only-of-type {\n",
              "        vertical-align: middle;\n",
              "    }\n",
              "\n",
              "    .dataframe tbody tr th {\n",
              "        vertical-align: top;\n",
              "    }\n",
              "\n",
              "    .dataframe thead th {\n",
              "        text-align: right;\n",
              "    }\n",
              "</style>\n",
              "<table border=\"1\" class=\"dataframe\">\n",
              "  <thead>\n",
              "    <tr style=\"text-align: right;\">\n",
              "      <th></th>\n",
              "      <th>Unnamed: 0</th>\n",
              "      <th>seqn</th>\n",
              "      <th>gender</th>\n",
              "      <th>age</th>\n",
              "      <th>race_ethnicity</th>\n",
              "      <th>annual_income</th>\n",
              "      <th>bmi</th>\n",
              "      <th>weight</th>\n",
              "      <th>height</th>\n",
              "      <th>systolic_bp</th>\n",
              "      <th>diastolic_bp</th>\n",
              "      <th>glucose</th>\n",
              "      <th>triglycerides</th>\n",
              "      <th>hdl_cholesterol</th>\n",
              "      <th>waist_circumference</th>\n",
              "      <th>physical_activity_level</th>\n",
              "      <th>cholesterol</th>\n",
              "      <th>coffee_tea_added_sugar</th>\n",
              "      <th>A1C_level</th>\n",
              "      <th>condition</th>\n",
              "    </tr>\n",
              "  </thead>\n",
              "  <tbody>\n",
              "    <tr>\n",
              "      <th>0</th>\n",
              "      <td>0</td>\n",
              "      <td>62161</td>\n",
              "      <td>1</td>\n",
              "      <td>22</td>\n",
              "      <td>3</td>\n",
              "      <td>14.0</td>\n",
              "      <td>23.3</td>\n",
              "      <td>69.2</td>\n",
              "      <td>172.3</td>\n",
              "      <td>110.0</td>\n",
              "      <td>82.0</td>\n",
              "      <td>92.0</td>\n",
              "      <td>110.0</td>\n",
              "      <td>41.0</td>\n",
              "      <td>68.0</td>\n",
              "      <td>2.0</td>\n",
              "      <td>168.0</td>\n",
              "      <td>2</td>\n",
              "      <td>5.1</td>\n",
              "      <td>0</td>\n",
              "    </tr>\n",
              "    <tr>\n",
              "      <th>1</th>\n",
              "      <td>2</td>\n",
              "      <td>62164</td>\n",
              "      <td>2</td>\n",
              "      <td>44</td>\n",
              "      <td>3</td>\n",
              "      <td>8.0</td>\n",
              "      <td>23.2</td>\n",
              "      <td>67.2</td>\n",
              "      <td>170.1</td>\n",
              "      <td>116.0</td>\n",
              "      <td>56.0</td>\n",
              "      <td>82.0</td>\n",
              "      <td>151.0</td>\n",
              "      <td>28.0</td>\n",
              "      <td>66.0</td>\n",
              "      <td>1.0</td>\n",
              "      <td>190.0</td>\n",
              "      <td>2</td>\n",
              "      <td>4.9</td>\n",
              "      <td>0</td>\n",
              "    </tr>\n",
              "    <tr>\n",
              "      <th>2</th>\n",
              "      <td>4</td>\n",
              "      <td>62169</td>\n",
              "      <td>1</td>\n",
              "      <td>21</td>\n",
              "      <td>5</td>\n",
              "      <td>2.0</td>\n",
              "      <td>20.1</td>\n",
              "      <td>54.6</td>\n",
              "      <td>164.8</td>\n",
              "      <td>124.0</td>\n",
              "      <td>80.0</td>\n",
              "      <td>107.0</td>\n",
              "      <td>73.0</td>\n",
              "      <td>43.0</td>\n",
              "      <td>64.0</td>\n",
              "      <td>2.0</td>\n",
              "      <td>132.0</td>\n",
              "      <td>2</td>\n",
              "      <td>5.4</td>\n",
              "      <td>1</td>\n",
              "    </tr>\n",
              "    <tr>\n",
              "      <th>3</th>\n",
              "      <td>7</td>\n",
              "      <td>62172</td>\n",
              "      <td>2</td>\n",
              "      <td>43</td>\n",
              "      <td>4</td>\n",
              "      <td>5.0</td>\n",
              "      <td>33.3</td>\n",
              "      <td>98.6</td>\n",
              "      <td>172.0</td>\n",
              "      <td>100.0</td>\n",
              "      <td>70.0</td>\n",
              "      <td>104.0</td>\n",
              "      <td>68.0</td>\n",
              "      <td>73.0</td>\n",
              "      <td>67.0</td>\n",
              "      <td>2.0</td>\n",
              "      <td>169.0</td>\n",
              "      <td>2</td>\n",
              "      <td>5.6</td>\n",
              "      <td>1</td>\n",
              "    </tr>\n",
              "    <tr>\n",
              "      <th>4</th>\n",
              "      <td>13</td>\n",
              "      <td>62177</td>\n",
              "      <td>1</td>\n",
              "      <td>51</td>\n",
              "      <td>5</td>\n",
              "      <td>77.0</td>\n",
              "      <td>20.1</td>\n",
              "      <td>57.3</td>\n",
              "      <td>168.9</td>\n",
              "      <td>152.0</td>\n",
              "      <td>68.0</td>\n",
              "      <td>95.0</td>\n",
              "      <td>130.0</td>\n",
              "      <td>43.0</td>\n",
              "      <td>67.0</td>\n",
              "      <td>2.0</td>\n",
              "      <td>198.0</td>\n",
              "      <td>2</td>\n",
              "      <td>5.8</td>\n",
              "      <td>1</td>\n",
              "    </tr>\n",
              "  </tbody>\n",
              "</table>\n",
              "</div>\n",
              "      <button class=\"colab-df-convert\" onclick=\"convertToInteractive('df-93815396-08a3-47a4-9687-1ba36d565c63')\"\n",
              "              title=\"Convert this dataframe to an interactive table.\"\n",
              "              style=\"display:none;\">\n",
              "        \n",
              "  <svg xmlns=\"http://www.w3.org/2000/svg\" height=\"24px\"viewBox=\"0 0 24 24\"\n",
              "       width=\"24px\">\n",
              "    <path d=\"M0 0h24v24H0V0z\" fill=\"none\"/>\n",
              "    <path d=\"M18.56 5.44l.94 2.06.94-2.06 2.06-.94-2.06-.94-.94-2.06-.94 2.06-2.06.94zm-11 1L8.5 8.5l.94-2.06 2.06-.94-2.06-.94L8.5 2.5l-.94 2.06-2.06.94zm10 10l.94 2.06.94-2.06 2.06-.94-2.06-.94-.94-2.06-.94 2.06-2.06.94z\"/><path d=\"M17.41 7.96l-1.37-1.37c-.4-.4-.92-.59-1.43-.59-.52 0-1.04.2-1.43.59L10.3 9.45l-7.72 7.72c-.78.78-.78 2.05 0 2.83L4 21.41c.39.39.9.59 1.41.59.51 0 1.02-.2 1.41-.59l7.78-7.78 2.81-2.81c.8-.78.8-2.07 0-2.86zM5.41 20L4 18.59l7.72-7.72 1.47 1.35L5.41 20z\"/>\n",
              "  </svg>\n",
              "      </button>\n",
              "      \n",
              "  <style>\n",
              "    .colab-df-container {\n",
              "      display:flex;\n",
              "      flex-wrap:wrap;\n",
              "      gap: 12px;\n",
              "    }\n",
              "\n",
              "    .colab-df-convert {\n",
              "      background-color: #E8F0FE;\n",
              "      border: none;\n",
              "      border-radius: 50%;\n",
              "      cursor: pointer;\n",
              "      display: none;\n",
              "      fill: #1967D2;\n",
              "      height: 32px;\n",
              "      padding: 0 0 0 0;\n",
              "      width: 32px;\n",
              "    }\n",
              "\n",
              "    .colab-df-convert:hover {\n",
              "      background-color: #E2EBFA;\n",
              "      box-shadow: 0px 1px 2px rgba(60, 64, 67, 0.3), 0px 1px 3px 1px rgba(60, 64, 67, 0.15);\n",
              "      fill: #174EA6;\n",
              "    }\n",
              "\n",
              "    [theme=dark] .colab-df-convert {\n",
              "      background-color: #3B4455;\n",
              "      fill: #D2E3FC;\n",
              "    }\n",
              "\n",
              "    [theme=dark] .colab-df-convert:hover {\n",
              "      background-color: #434B5C;\n",
              "      box-shadow: 0px 1px 3px 1px rgba(0, 0, 0, 0.15);\n",
              "      filter: drop-shadow(0px 1px 2px rgba(0, 0, 0, 0.3));\n",
              "      fill: #FFFFFF;\n",
              "    }\n",
              "  </style>\n",
              "\n",
              "      <script>\n",
              "        const buttonEl =\n",
              "          document.querySelector('#df-93815396-08a3-47a4-9687-1ba36d565c63 button.colab-df-convert');\n",
              "        buttonEl.style.display =\n",
              "          google.colab.kernel.accessAllowed ? 'block' : 'none';\n",
              "\n",
              "        async function convertToInteractive(key) {\n",
              "          const element = document.querySelector('#df-93815396-08a3-47a4-9687-1ba36d565c63');\n",
              "          const dataTable =\n",
              "            await google.colab.kernel.invokeFunction('convertToInteractive',\n",
              "                                                     [key], {});\n",
              "          if (!dataTable) return;\n",
              "\n",
              "          const docLinkHtml = 'Like what you see? Visit the ' +\n",
              "            '<a target=\"_blank\" href=https://colab.research.google.com/notebooks/data_table.ipynb>data table notebook</a>'\n",
              "            + ' to learn more about interactive tables.';\n",
              "          element.innerHTML = '';\n",
              "          dataTable['output_type'] = 'display_data';\n",
              "          await google.colab.output.renderOutput(dataTable, element);\n",
              "          const docLink = document.createElement('div');\n",
              "          docLink.innerHTML = docLinkHtml;\n",
              "          element.appendChild(docLink);\n",
              "        }\n",
              "      </script>\n",
              "    </div>\n",
              "  </div>\n",
              "  "
            ]
          },
          "metadata": {},
          "execution_count": 3
        }
      ]
    },
    {
      "cell_type": "code",
      "source": [
        "print(min(data['bmi']),max(data['bmi']))"
      ],
      "metadata": {
        "colab": {
          "base_uri": "https://localhost:8080/"
        },
        "id": "KlREBJCzj8jB",
        "outputId": "e5c0a735-48ce-4f38-ebae-a77843fb1c55"
      },
      "execution_count": null,
      "outputs": [
        {
          "output_type": "stream",
          "name": "stdout",
          "text": [
            "13.4 68.7\n"
          ]
        }
      ]
    },
    {
      "cell_type": "code",
      "source": [
        "diabetes['age']"
      ],
      "metadata": {
        "colab": {
          "base_uri": "https://localhost:8080/"
        },
        "id": "7fJMbnp1TUy-",
        "outputId": "f9c091b5-1d1a-4d2f-e9f4-b96b7a4949c8"
      },
      "execution_count": null,
      "outputs": [
        {
          "output_type": "execute_result",
          "data": {
            "text/plain": [
              "15      65\n",
              "16      77\n",
              "21      50\n",
              "28      52\n",
              "31      57\n",
              "        ..\n",
              "2339    50\n",
              "2352    49\n",
              "2355    57\n",
              "2372    48\n",
              "2375    60\n",
              "Name: age, Length: 311, dtype: int64"
            ]
          },
          "metadata": {},
          "execution_count": 149
        }
      ]
    },
    {
      "cell_type": "code",
      "source": [
        "grouped = data.groupby('condition')\n",
        "prediabetes = grouped.get_group(1)\n",
        "diabetes = grouped.get_group(2)\n",
        "\n",
        "age_count = {}\n",
        "for i in diabetes['age']:\n",
        "  if 16<= i <= 30:\n",
        "    if '16-30' not in age_count.keys():\n",
        "      age_count['16-30'] = 1\n",
        "    else:\n",
        "      age_count['16-30']+=1\n",
        "  elif 31<= i <= 50:\n",
        "    if '31-50' not in age_count.keys():\n",
        "      age_count['31-50'] = 1\n",
        "    else:\n",
        "      age_count['31-50']+=1\n",
        "  elif 51<= i <= 70:\n",
        "    if '51-70' not in age_count.keys():\n",
        "      age_count['51-70'] = 1\n",
        "    else:\n",
        "      age_count['51-70']+=1\n",
        "  elif i >70:\n",
        "    if '70+' not in age_count.keys():\n",
        "      age_count['70+'] = 1\n",
        "    else:\n",
        "      age_count['70+']+=1"
      ],
      "metadata": {
        "id": "SqlQKWYroHgY"
      },
      "execution_count": null,
      "outputs": []
    },
    {
      "cell_type": "code",
      "source": [
        "age_count_pre = {}\n",
        "for i in prediabetes['age']:\n",
        "  if 16<= i <= 30:\n",
        "    if '16-30' not in age_count_pre.keys():\n",
        "      age_count_pre['16-30'] = 1\n",
        "    else:\n",
        "      age_count_pre['16-30']+=1\n",
        "  elif 31<= i <= 50:\n",
        "    if '31-50' not in age_count_pre.keys():\n",
        "      age_count_pre['31-50'] = 1\n",
        "    else:\n",
        "      age_count_pre['31-50']+=1\n",
        "  elif 51<= i <= 70:\n",
        "    if '51-70' not in age_count_pre.keys():\n",
        "      age_count_pre['51-70'] = 1\n",
        "    else:\n",
        "      age_count_pre['51-70']+=1\n",
        "  elif i >70:\n",
        "    if '70+' not in age_count_pre.keys():\n",
        "      age_count_pre['70+'] = 1\n",
        "    else:\n",
        "      age_count_pre['70+']+=1\n"
      ],
      "metadata": {
        "id": "idZ0E53mGEg2"
      },
      "execution_count": null,
      "outputs": []
    },
    {
      "cell_type": "code",
      "source": [
        "low = {'16-30yrs' : 0, '31-50yrs': 0, '51-70yrs': 0, '70+ yrs': 0}\n",
        "for i in range(len(diabetes['cholesterol'])):\n",
        "  if diabetes['cholesterol'].iloc[i]<200 and 31 <= diabetes['age'].iloc[i] <= 50:\n",
        "    low['31-50yrs']+=1\n",
        "  elif diabetes['cholesterol'].iloc[i]<200 and 16 <= diabetes['age'].iloc[i] <= 30:\n",
        "    low['16-30yrs']+=1\n",
        "  elif diabetes['cholesterol'].iloc[i]<200 and 51 <= diabetes['age'].iloc[i] <= 70:\n",
        "    low['51-70yrs']+=1\n",
        "  elif diabetes['cholesterol'].iloc[i]<200 and diabetes['age'].iloc[i] > 70:\n",
        "    low['70+ yrs']+=1"
      ],
      "metadata": {
        "id": "TNMLndQGRjD6"
      },
      "execution_count": null,
      "outputs": []
    },
    {
      "cell_type": "code",
      "source": [
        "low_pre = {'16-30yrs' : 0, '31-50yrs': 0, '51-70yrs': 0, '70+ yrs': 0}\n",
        "for i in range(len(prediabetes['cholesterol'])):\n",
        "  if prediabetes['cholesterol'].iloc[i]<200 and 31 <= prediabetes['age'].iloc[i] <= 50:\n",
        "    low_pre['31-50yrs']+=1\n",
        "  elif prediabetes['cholesterol'].iloc[i]<200 and 16 <= prediabetes['age'].iloc[i] <= 30:\n",
        "    low_pre['16-30yrs']+=1\n",
        "  elif prediabetes['cholesterol'].iloc[i]<200 and 51 <= prediabetes['age'].iloc[i] <= 70:\n",
        "    low_pre['51-70yrs']+=1\n",
        "  elif prediabetes['cholesterol'].iloc[i]<200 and prediabetes['age'].iloc[i] > 70:\n",
        "    low_pre['70+ yrs']+=1"
      ],
      "metadata": {
        "id": "wEUjNwvKGyc3"
      },
      "execution_count": null,
      "outputs": []
    },
    {
      "cell_type": "code",
      "source": [
        "borderline_pre = {'16-30yrs' : 0, '31-50yrs': 0, '51-70yrs': 0, '70+ yrs': 0}\n",
        "for i in range(len(prediabetes['cholesterol'])):\n",
        "  if 200<=prediabetes['cholesterol'].iloc[i]<=239 and 31 <= prediabetes['age'].iloc[i] <= 50:\n",
        "    borderline_pre['31-50yrs']+=1\n",
        "  elif 200<=prediabetes['cholesterol'].iloc[i]<=239 and 16 <= prediabetes['age'].iloc[i] <= 30:\n",
        "    borderline_pre['16-30yrs']+=1\n",
        "  elif 200<=prediabetes['cholesterol'].iloc[i]<=239 and 51 <= prediabetes['age'].iloc[i] <= 70:\n",
        "    borderline_pre['51-70yrs']+=1\n",
        "  elif 200<=prediabetes['cholesterol'].iloc[i]<=239 and prediabetes['age'].iloc[i] > 70:\n",
        "    borderline_pre['70+ yrs']+=1"
      ],
      "metadata": {
        "id": "2dLgnvo3HAij"
      },
      "execution_count": null,
      "outputs": []
    },
    {
      "cell_type": "code",
      "source": [
        "high_pre = {'16-30yrs' : 0, '31-50yrs': 0, '51-70yrs': 0, '70+ yrs': 0}\n",
        "for i in range(len(prediabetes['cholesterol'])):\n",
        "  if prediabetes['cholesterol'].iloc[i]>=240 and 31 <= prediabetes['age'].iloc[i] <= 50:\n",
        "   high_pre['31-50yrs']+=1\n",
        "  elif prediabetes['cholesterol'].iloc[i]>=240 and 16 <= prediabetes['age'].iloc[i] <= 30:\n",
        "    high_pre['16-30yrs']+=1\n",
        "  elif prediabetes['cholesterol'].iloc[i]>=240and 51 <= prediabetes['age'].iloc[i] <= 70:\n",
        "    high_pre['51-70yrs']+=1\n",
        "  elif prediabetes['cholesterol'].iloc[i]>=240and prediabetes['age'].iloc[i] > 70:\n",
        "    high_pre['70+ yrs']+=1"
      ],
      "metadata": {
        "id": "fmIiVkLuHLpy"
      },
      "execution_count": null,
      "outputs": []
    },
    {
      "cell_type": "code",
      "source": [
        "age_count_pre"
      ],
      "metadata": {
        "colab": {
          "base_uri": "https://localhost:8080/"
        },
        "id": "mNc4nI0HGo7X",
        "outputId": "0ca0493f-e947-49ff-e8c5-3b6d6b2390bf"
      },
      "execution_count": null,
      "outputs": [
        {
          "output_type": "execute_result",
          "data": {
            "text/plain": [
              "{'16-30': 243, '31-50': 465, '51-70': 437, '70+': 181}"
            ]
          },
          "metadata": {},
          "execution_count": 32
        }
      ]
    },
    {
      "cell_type": "code",
      "source": [
        "low_pre"
      ],
      "metadata": {
        "colab": {
          "base_uri": "https://localhost:8080/"
        },
        "id": "Hg3e7RrUG7sL",
        "outputId": "b93fd40f-b580-4e8c-a765-2f99f9ba20f4"
      },
      "execution_count": null,
      "outputs": [
        {
          "output_type": "execute_result",
          "data": {
            "text/plain": [
              "{'16-30yrs': 123, '31-50yrs': 164, '51-70yrs': 160, '70+ yrs': 97}"
            ]
          },
          "metadata": {},
          "execution_count": 40
        }
      ]
    },
    {
      "cell_type": "code",
      "source": [
        "borderline_pre"
      ],
      "metadata": {
        "colab": {
          "base_uri": "https://localhost:8080/"
        },
        "id": "CCTL8liCHHnQ",
        "outputId": "fadc0ea6-2a95-47c7-d6a0-b4b808776c9f"
      },
      "execution_count": null,
      "outputs": [
        {
          "output_type": "execute_result",
          "data": {
            "text/plain": [
              "{'16-30yrs': 104, '31-50yrs': 223, '51-70yrs': 197, '70+ yrs': 58}"
            ]
          },
          "metadata": {},
          "execution_count": 42
        }
      ]
    },
    {
      "cell_type": "code",
      "source": [
        "high_pre"
      ],
      "metadata": {
        "colab": {
          "base_uri": "https://localhost:8080/"
        },
        "id": "97LNxMSLHQQ7",
        "outputId": "b7e357c1-c166-4585-c366-93922c7da9ec"
      },
      "execution_count": null,
      "outputs": [
        {
          "output_type": "execute_result",
          "data": {
            "text/plain": [
              "{'16-30yrs': 16, '31-50yrs': 78, '51-70yrs': 80, '70+ yrs': 26}"
            ]
          },
          "metadata": {},
          "execution_count": 44
        }
      ]
    },
    {
      "cell_type": "code",
      "source": [
        "percentage_pre = {}\n",
        "for i in age_count_pre.keys():\n",
        "  percentage_pre[i] = (age_count_pre[i]/len(prediabetes))*100"
      ],
      "metadata": {
        "id": "gTuoWpbcHLG8"
      },
      "execution_count": null,
      "outputs": []
    },
    {
      "cell_type": "code",
      "source": [
        "percentage"
      ],
      "metadata": {
        "colab": {
          "base_uri": "https://localhost:8080/",
          "height": 164
        },
        "id": "zR0ZKhF9l4VQ",
        "outputId": "d8f1183f-3781-4ca2-ae1b-fc4c4e5943a9"
      },
      "execution_count": null,
      "outputs": [
        {
          "output_type": "error",
          "ename": "NameError",
          "evalue": "ignored",
          "traceback": [
            "\u001b[0;31m---------------------------------------------------------------------------\u001b[0m",
            "\u001b[0;31mNameError\u001b[0m                                 Traceback (most recent call last)",
            "\u001b[0;32m<ipython-input-83-5dc9173ce437>\u001b[0m in \u001b[0;36m<cell line: 1>\u001b[0;34m()\u001b[0m\n\u001b[0;32m----> 1\u001b[0;31m \u001b[0mpercentage\u001b[0m\u001b[0;34m\u001b[0m\u001b[0;34m\u001b[0m\u001b[0m\n\u001b[0m",
            "\u001b[0;31mNameError\u001b[0m: name 'percentage' is not defined"
          ]
        }
      ]
    },
    {
      "cell_type": "code",
      "source": [
        "len(prediabetes)"
      ],
      "metadata": {
        "colab": {
          "base_uri": "https://localhost:8080/"
        },
        "id": "6GMYeHE8P3ai",
        "outputId": "7cc86c85-3804-4e32-b08d-4a21a35e419d"
      },
      "execution_count": null,
      "outputs": [
        {
          "output_type": "execute_result",
          "data": {
            "text/plain": [
              "1326"
            ]
          },
          "metadata": {},
          "execution_count": 49
        }
      ]
    },
    {
      "cell_type": "code",
      "source": [
        "123/1326*100"
      ],
      "metadata": {
        "colab": {
          "base_uri": "https://localhost:8080/"
        },
        "id": "qD16xV0YQMMe",
        "outputId": "96b3601f-8dbe-4e86-d439-ac65484b8948"
      },
      "execution_count": null,
      "outputs": [
        {
          "output_type": "execute_result",
          "data": {
            "text/plain": [
              "9.276018099547512"
            ]
          },
          "metadata": {},
          "execution_count": 62
        }
      ]
    },
    {
      "cell_type": "code",
      "source": [
        "104/1326*100"
      ],
      "metadata": {
        "colab": {
          "base_uri": "https://localhost:8080/"
        },
        "id": "gABWQZMUP1Vn",
        "outputId": "7cd9ff38-6385-42e3-e6d6-7af1bee9f42a"
      },
      "execution_count": null,
      "outputs": [
        {
          "output_type": "execute_result",
          "data": {
            "text/plain": [
              "7.8431372549019605"
            ]
          },
          "metadata": {},
          "execution_count": 61
        }
      ]
    },
    {
      "cell_type": "code",
      "source": [
        "16/len(prediabetes)*100"
      ],
      "metadata": {
        "colab": {
          "base_uri": "https://localhost:8080/"
        },
        "id": "kQMeY_SXPv9o",
        "outputId": "97860a76-bfd2-431b-d0d2-61e5f633f953"
      },
      "execution_count": null,
      "outputs": [
        {
          "output_type": "execute_result",
          "data": {
            "text/plain": [
              "1.206636500754148"
            ]
          },
          "metadata": {},
          "execution_count": 60
        }
      ]
    },
    {
      "cell_type": "code",
      "source": [
        "percentage_pre"
      ],
      "metadata": {
        "colab": {
          "base_uri": "https://localhost:8080/"
        },
        "id": "3kQN_CTGO7nZ",
        "outputId": "5836b919-3f13-4948-9a5d-18575f350eec"
      },
      "execution_count": null,
      "outputs": [
        {
          "output_type": "execute_result",
          "data": {
            "text/plain": [
              "{'16-30': 18.32579185520362,\n",
              " '31-50': 35.06787330316742,\n",
              " '51-70': 32.95625942684766,\n",
              " '70+': 13.650075414781297}"
            ]
          },
          "metadata": {},
          "execution_count": 46
        }
      ]
    },
    {
      "cell_type": "code",
      "source": [
        "borderline = {'16-30yrs' : 0, '31-50yrs': 0, '51-70yrs': 0, '70+ yrs': 0}\n",
        "for i in range(len(diabetes['cholesterol'])):\n",
        "  if 200<=diabetes['cholesterol'].iloc[i]<=239 and 31 <= diabetes['age'].iloc[i] <= 50:\n",
        "    borderline['31-50yrs']+=1\n",
        "  elif 200<=diabetes['cholesterol'].iloc[i]<=239 and 16 <= diabetes['age'].iloc[i] <= 30:\n",
        "    borderline['16-30yrs']+=1\n",
        "  elif 200<=diabetes['cholesterol'].iloc[i]<=239 and 51 <= diabetes['age'].iloc[i] <= 70:\n",
        "    borderline['51-70yrs']+=1\n",
        "  elif 200<=diabetes['cholesterol'].iloc[i]<=239 and diabetes['age'].iloc[i] > 70:\n",
        "    borderline['70+ yrs']+=1"
      ],
      "metadata": {
        "id": "a_dFt03DSaO8"
      },
      "execution_count": null,
      "outputs": []
    },
    {
      "cell_type": "code",
      "source": [
        "low"
      ],
      "metadata": {
        "colab": {
          "base_uri": "https://localhost:8080/"
        },
        "id": "4sjQq2wDR_ru",
        "outputId": "d1979dff-81af-4bd2-ba5f-d3b564c22db7"
      },
      "execution_count": null,
      "outputs": [
        {
          "output_type": "execute_result",
          "data": {
            "text/plain": [
              "{'16-30yrs': 0, '31-50yrs': 6, '51-70yrs': 34, '70+ yrs': 63}"
            ]
          },
          "metadata": {},
          "execution_count": 136
        }
      ]
    },
    {
      "cell_type": "code",
      "source": [
        "borderline"
      ],
      "metadata": {
        "colab": {
          "base_uri": "https://localhost:8080/"
        },
        "id": "3F1cNpsXSoR1",
        "outputId": "b032c572-80ba-4ff2-9907-58890ece7bd7"
      },
      "execution_count": null,
      "outputs": [
        {
          "output_type": "execute_result",
          "data": {
            "text/plain": [
              "{'16-30yrs': 0, '31-50yrs': 4, '51-70yrs': 24, '70+ yrs': 13}"
            ]
          },
          "metadata": {},
          "execution_count": 138
        }
      ]
    },
    {
      "cell_type": "code",
      "source": [
        "high = {'16-30yrs' : 0, '31-50yrs': 0, '51-70yrs': 0, '70+ yrs': 0}\n",
        "for i in range(len(diabetes['cholesterol'])):\n",
        "  if diabetes['cholesterol'].iloc[i]>=240 and 31 <= diabetes['age'].iloc[i] <= 50:\n",
        "   high['31-50yrs']+=1\n",
        "  elif diabetes['cholesterol'].iloc[i]>=240 and 16 <= diabetes['age'].iloc[i] <= 30:\n",
        "    high['16-30yrs']+=1\n",
        "  elif diabetes['cholesterol'].iloc[i]>=240and 51 <= diabetes['age'].iloc[i] <= 70:\n",
        "    high['51-70yrs']+=1\n",
        "  elif diabetes['cholesterol'].iloc[i]>=240and diabetes['age'].iloc[i] > 70:\n",
        "    high['70+ yrs']+=1"
      ],
      "metadata": {
        "id": "4tCvAzH6SqQG"
      },
      "execution_count": null,
      "outputs": []
    },
    {
      "cell_type": "code",
      "source": [
        "high"
      ],
      "metadata": {
        "colab": {
          "base_uri": "https://localhost:8080/"
        },
        "id": "flZto2y0S5ei",
        "outputId": "a9c56a92-e42e-4f1f-d90c-171f94741038"
      },
      "execution_count": null,
      "outputs": [
        {
          "output_type": "execute_result",
          "data": {
            "text/plain": [
              "{'16-30yrs': 0, '31-50yrs': 1, '51-70yrs': 8, '70+ yrs': 2}"
            ]
          },
          "metadata": {},
          "execution_count": 140
        }
      ]
    },
    {
      "cell_type": "code",
      "source": [
        "borderline"
      ],
      "metadata": {
        "colab": {
          "base_uri": "https://localhost:8080/"
        },
        "id": "S42fqMBnUOS8",
        "outputId": "80e47238-e5e4-48bb-99ad-d812ec079023"
      },
      "execution_count": null,
      "outputs": [
        {
          "output_type": "execute_result",
          "data": {
            "text/plain": [
              "{'16-30yrs': 4, '31-50yrs': 23, '51-70yrs': 32, '70+ yrs': 13}"
            ]
          },
          "metadata": {},
          "execution_count": 156
        }
      ]
    },
    {
      "cell_type": "code",
      "source": [
        "low"
      ],
      "metadata": {
        "colab": {
          "base_uri": "https://localhost:8080/"
        },
        "id": "lrjSIuvRUNYA",
        "outputId": "e776ac1d-5f9c-430e-8627-a0206bf7735c"
      },
      "execution_count": null,
      "outputs": [
        {
          "output_type": "execute_result",
          "data": {
            "text/plain": [
              "{'16-30yrs': 4, '31-50yrs': 33, '51-70yrs': 108, '70+ yrs': 63}"
            ]
          },
          "metadata": {},
          "execution_count": 155
        }
      ]
    },
    {
      "cell_type": "code",
      "source": [
        "age_count"
      ],
      "metadata": {
        "colab": {
          "base_uri": "https://localhost:8080/"
        },
        "id": "It2PVbR2S7s_",
        "outputId": "f9f87376-88d6-480a-ceb1-649ded6badc2"
      },
      "execution_count": null,
      "outputs": [
        {
          "output_type": "execute_result",
          "data": {
            "text/plain": [
              "{'51-70': 161, '70+': 78, '31-50': 63, '16-30': 9}"
            ]
          },
          "metadata": {},
          "execution_count": 151
        }
      ]
    },
    {
      "cell_type": "code",
      "source": [
        "percentage = {}\n",
        "for i in age_count.keys():\n",
        "  percentage[i] = (age_count[i]/len(diabetes))*100"
      ],
      "metadata": {
        "id": "1DwVwCjWU2_M"
      },
      "execution_count": null,
      "outputs": []
    },
    {
      "cell_type": "code",
      "source": [
        "percentage"
      ],
      "metadata": {
        "colab": {
          "base_uri": "https://localhost:8080/"
        },
        "id": "ly3yyxemU9Rw",
        "outputId": "c1e519ed-5791-4533-d45d-6307fdced9ab"
      },
      "execution_count": null,
      "outputs": [
        {
          "output_type": "execute_result",
          "data": {
            "text/plain": [
              "{'51-70': 51.76848874598071,\n",
              " '70+': 25.080385852090032,\n",
              " '31-50': 20.257234726688104,\n",
              " '16-30': 2.8938906752411575}"
            ]
          },
          "metadata": {},
          "execution_count": 160
        }
      ]
    },
    {
      "cell_type": "code",
      "source": [
        "age_count"
      ],
      "metadata": {
        "colab": {
          "base_uri": "https://localhost:8080/"
        },
        "id": "-UU347LMQDnO",
        "outputId": "31f17245-25bf-4081-dcdf-aeed2baed323"
      },
      "execution_count": null,
      "outputs": [
        {
          "output_type": "execute_result",
          "data": {
            "text/plain": [
              "{'70+': 234, '51-70': 66, '31-50': 10, '16-30': 1}"
            ]
          },
          "metadata": {},
          "execution_count": 114
        }
      ]
    },
    {
      "cell_type": "code",
      "source": [
        "data1 = data.drop(['Unnamed: 0','seqn','coffee_tea_added_sugar','waist_circumference'], axis = 1)"
      ],
      "metadata": {
        "id": "x_SERB_o3CuV"
      },
      "execution_count": null,
      "outputs": []
    },
    {
      "cell_type": "code",
      "source": [
        "import pandas as pd\n",
        "import numpy as np\n",
        "\n",
        "# create a sample correlation matrix\n",
        "corr_matrix = pd.DataFrame(data1.corr())\n",
        "\n",
        "# convert correlation matrix to desired form\n",
        "corr_array = corr_matrix.values\n",
        "triu_indices = np.triu_indices(corr_array.shape[0], k=1)\n",
        "corr_list = [[i, j, corr_array[i, j]] for i, j in zip(triu_indices[0], triu_indices[1])]\n",
        "\n",
        "# round the correlation values to two decimal points\n",
        "corr_list_rounded = [[i, j, round(c, 2)] for i, j, c in corr_list]\n",
        "\n",
        "# add diagonal elements with value 1 to the list\n",
        "for i in range(corr_array.shape[0]):\n",
        "    corr_list_rounded.append([i, i, 1])\n",
        "\n",
        "print(corr_list_rounded)\n",
        "\n"
      ],
      "metadata": {
        "colab": {
          "base_uri": "https://localhost:8080/"
        },
        "id": "kz-Vv-mH3PSV",
        "outputId": "01cea144-f05e-4027-8b98-0e702ef1085f"
      },
      "execution_count": null,
      "outputs": [
        {
          "output_type": "stream",
          "name": "stdout",
          "text": [
            "[[0, 1, 0.01], [0, 2, 0.02], [0, 3, -0.05], [0, 4, 0.05], [0, 5, -0.25], [0, 6, -0.66], [0, 7, -0.12], [0, 8, -0.1], [0, 9, -0.08], [0, 10, 0.05], [0, 11, 0.31], [0, 12, 0.2], [0, 13, 0.11], [0, 14, -0.03], [0, 15, -0.05], [1, 2, -0.03], [1, 3, 0.02], [1, 4, 0.15], [1, 5, 0.06], [1, 6, -0.17], [1, 7, 0.46], [1, 8, 0.09], [1, 9, 0.27], [1, 10, 0.13], [1, 11, 0.08], [1, 12, 0.09], [1, 13, 0.19], [1, 14, 0.3], [1, 15, 0.46], [2, 3, 0.07], [2, 4, -0.14], [2, 5, -0.1], [2, 6, 0.04], [2, 7, 0.01], [2, 8, 0.04], [2, 9, -0.01], [2, 10, -0.04], [2, 11, 0.09], [2, 12, 0.12], [2, 13, -0.02], [2, 14, 0.01], [2, 15, -0.0], [3, 4, -0.06], [3, 5, -0.05], [3, 6, 0.01], [3, 7, 0.03], [3, 8, 0.03], [3, 9, -0.01], [3, 10, 0.02], [3, 11, 0.0], [3, 12, 0.03], [3, 13, 0.01], [3, 14, -0.02], [3, 15, -0.0], [4, 5, 0.89], [4, 6, -0.0], [4, 7, 0.15], [4, 8, 0.13], [4, 9, 0.22], [4, 10, 0.1], [4, 11, -0.28], [4, 12, -0.02], [4, 13, 0.06], [4, 14, 0.23], [4, 15, 0.27], [5, 6, 0.44], [5, 7, 0.13], [5, 8, 0.16], [5, 9, 0.2], [5, 10, 0.06], [5, 11, -0.34], [5, 12, -0.09], [5, 13, 0.01], [5, 14, 0.19], [5, 15, 0.22], [6, 7, -0.02], [6, 8, 0.1], [6, 9, 0.01], [6, 10, -0.06], [6, 11, -0.2], [6, 12, -0.17], [6, 13, -0.11], [6, 14, -0.03], [6, 15, -0.05], [7, 8, 0.36], [7, 9, 0.22], [7, 10, 0.08], [7, 11, 0.02], [7, 12, -0.02], [7, 13, 0.13], [7, 14, 0.21], [7, 15, 0.3], [8, 9, 0.03], [8, 10, 0.17], [8, 11, 0.0], [8, 12, -0.04], [8, 13, 0.2], [8, 14, 0.03], [8, 15, 0.09], [9, 10, 0.03], [9, 11, -0.19], [9, 12, 0.02], [9, 13, 0.03], [9, 14, 0.79], [9, 15, 0.51], [10, 11, 0.05], [10, 12, -0.04], [10, 13, 0.93], [10, 14, 0.06], [10, 15, 0.24], [11, 12, 0.05], [11, 13, 0.28], [11, 14, -0.15], [11, 15, -0.04], [12, 13, -0.03], [12, 14, 0.04], [12, 15, 0.07], [13, 14, 0.06], [13, 15, 0.27], [14, 15, 0.56], [0, 0, 1], [1, 1, 1], [2, 2, 1], [3, 3, 1], [4, 4, 1], [5, 5, 1], [6, 6, 1], [7, 7, 1], [8, 8, 1], [9, 9, 1], [10, 10, 1], [11, 11, 1], [12, 12, 1], [13, 13, 1], [14, 14, 1], [15, 15, 1]]\n"
          ]
        }
      ]
    },
    {
      "cell_type": "code",
      "source": [
        "non_diabetic = grouped.get_group(0)"
      ],
      "metadata": {
        "id": "99AkRNVSUG4Q"
      },
      "execution_count": null,
      "outputs": []
    },
    {
      "cell_type": "code",
      "source": [
        "predia_data = []\n",
        "for i in range(len(prediabetes)):\n",
        "  predia_data.append([str(prediabetes['seqn'].iloc[i]), prediabetes['A1C_level'].iloc[i]])"
      ],
      "metadata": {
        "id": "hkVGY_a7UOOb"
      },
      "execution_count": null,
      "outputs": []
    },
    {
      "cell_type": "code",
      "source": [
        "a1c_data = pd.DataFrame(diabetes['A1C_level'])"
      ],
      "metadata": {
        "id": "oevm03o1Usbm"
      },
      "execution_count": null,
      "outputs": []
    },
    {
      "cell_type": "code",
      "source": [
        "a1c_data"
      ],
      "metadata": {
        "colab": {
          "base_uri": "https://localhost:8080/",
          "height": 419
        },
        "id": "7eMroZFDbf9K",
        "outputId": "b55c3036-c6bb-4c3d-e49e-775d58f5ef21"
      },
      "execution_count": null,
      "outputs": [
        {
          "output_type": "execute_result",
          "data": {
            "text/plain": [
              "      A1C_level\n",
              "15          9.6\n",
              "16          7.0\n",
              "21          8.7\n",
              "28         11.1\n",
              "31          5.1\n",
              "...         ...\n",
              "2339        7.0\n",
              "2352        5.7\n",
              "2355       10.6\n",
              "2372        6.5\n",
              "2375        5.2\n",
              "\n",
              "[311 rows x 1 columns]"
            ],
            "text/html": [
              "\n",
              "  <div id=\"df-89242add-b2b7-482d-a360-f26678f1c8d4\">\n",
              "    <div class=\"colab-df-container\">\n",
              "      <div>\n",
              "<style scoped>\n",
              "    .dataframe tbody tr th:only-of-type {\n",
              "        vertical-align: middle;\n",
              "    }\n",
              "\n",
              "    .dataframe tbody tr th {\n",
              "        vertical-align: top;\n",
              "    }\n",
              "\n",
              "    .dataframe thead th {\n",
              "        text-align: right;\n",
              "    }\n",
              "</style>\n",
              "<table border=\"1\" class=\"dataframe\">\n",
              "  <thead>\n",
              "    <tr style=\"text-align: right;\">\n",
              "      <th></th>\n",
              "      <th>A1C_level</th>\n",
              "    </tr>\n",
              "  </thead>\n",
              "  <tbody>\n",
              "    <tr>\n",
              "      <th>15</th>\n",
              "      <td>9.6</td>\n",
              "    </tr>\n",
              "    <tr>\n",
              "      <th>16</th>\n",
              "      <td>7.0</td>\n",
              "    </tr>\n",
              "    <tr>\n",
              "      <th>21</th>\n",
              "      <td>8.7</td>\n",
              "    </tr>\n",
              "    <tr>\n",
              "      <th>28</th>\n",
              "      <td>11.1</td>\n",
              "    </tr>\n",
              "    <tr>\n",
              "      <th>31</th>\n",
              "      <td>5.1</td>\n",
              "    </tr>\n",
              "    <tr>\n",
              "      <th>...</th>\n",
              "      <td>...</td>\n",
              "    </tr>\n",
              "    <tr>\n",
              "      <th>2339</th>\n",
              "      <td>7.0</td>\n",
              "    </tr>\n",
              "    <tr>\n",
              "      <th>2352</th>\n",
              "      <td>5.7</td>\n",
              "    </tr>\n",
              "    <tr>\n",
              "      <th>2355</th>\n",
              "      <td>10.6</td>\n",
              "    </tr>\n",
              "    <tr>\n",
              "      <th>2372</th>\n",
              "      <td>6.5</td>\n",
              "    </tr>\n",
              "    <tr>\n",
              "      <th>2375</th>\n",
              "      <td>5.2</td>\n",
              "    </tr>\n",
              "  </tbody>\n",
              "</table>\n",
              "<p>311 rows × 1 columns</p>\n",
              "</div>\n",
              "      <button class=\"colab-df-convert\" onclick=\"convertToInteractive('df-89242add-b2b7-482d-a360-f26678f1c8d4')\"\n",
              "              title=\"Convert this dataframe to an interactive table.\"\n",
              "              style=\"display:none;\">\n",
              "        \n",
              "  <svg xmlns=\"http://www.w3.org/2000/svg\" height=\"24px\"viewBox=\"0 0 24 24\"\n",
              "       width=\"24px\">\n",
              "    <path d=\"M0 0h24v24H0V0z\" fill=\"none\"/>\n",
              "    <path d=\"M18.56 5.44l.94 2.06.94-2.06 2.06-.94-2.06-.94-.94-2.06-.94 2.06-2.06.94zm-11 1L8.5 8.5l.94-2.06 2.06-.94-2.06-.94L8.5 2.5l-.94 2.06-2.06.94zm10 10l.94 2.06.94-2.06 2.06-.94-2.06-.94-.94-2.06-.94 2.06-2.06.94z\"/><path d=\"M17.41 7.96l-1.37-1.37c-.4-.4-.92-.59-1.43-.59-.52 0-1.04.2-1.43.59L10.3 9.45l-7.72 7.72c-.78.78-.78 2.05 0 2.83L4 21.41c.39.39.9.59 1.41.59.51 0 1.02-.2 1.41-.59l7.78-7.78 2.81-2.81c.8-.78.8-2.07 0-2.86zM5.41 20L4 18.59l7.72-7.72 1.47 1.35L5.41 20z\"/>\n",
              "  </svg>\n",
              "      </button>\n",
              "      \n",
              "  <style>\n",
              "    .colab-df-container {\n",
              "      display:flex;\n",
              "      flex-wrap:wrap;\n",
              "      gap: 12px;\n",
              "    }\n",
              "\n",
              "    .colab-df-convert {\n",
              "      background-color: #E8F0FE;\n",
              "      border: none;\n",
              "      border-radius: 50%;\n",
              "      cursor: pointer;\n",
              "      display: none;\n",
              "      fill: #1967D2;\n",
              "      height: 32px;\n",
              "      padding: 0 0 0 0;\n",
              "      width: 32px;\n",
              "    }\n",
              "\n",
              "    .colab-df-convert:hover {\n",
              "      background-color: #E2EBFA;\n",
              "      box-shadow: 0px 1px 2px rgba(60, 64, 67, 0.3), 0px 1px 3px 1px rgba(60, 64, 67, 0.15);\n",
              "      fill: #174EA6;\n",
              "    }\n",
              "\n",
              "    [theme=dark] .colab-df-convert {\n",
              "      background-color: #3B4455;\n",
              "      fill: #D2E3FC;\n",
              "    }\n",
              "\n",
              "    [theme=dark] .colab-df-convert:hover {\n",
              "      background-color: #434B5C;\n",
              "      box-shadow: 0px 1px 3px 1px rgba(0, 0, 0, 0.15);\n",
              "      filter: drop-shadow(0px 1px 2px rgba(0, 0, 0, 0.3));\n",
              "      fill: #FFFFFF;\n",
              "    }\n",
              "  </style>\n",
              "\n",
              "      <script>\n",
              "        const buttonEl =\n",
              "          document.querySelector('#df-89242add-b2b7-482d-a360-f26678f1c8d4 button.colab-df-convert');\n",
              "        buttonEl.style.display =\n",
              "          google.colab.kernel.accessAllowed ? 'block' : 'none';\n",
              "\n",
              "        async function convertToInteractive(key) {\n",
              "          const element = document.querySelector('#df-89242add-b2b7-482d-a360-f26678f1c8d4');\n",
              "          const dataTable =\n",
              "            await google.colab.kernel.invokeFunction('convertToInteractive',\n",
              "                                                     [key], {});\n",
              "          if (!dataTable) return;\n",
              "\n",
              "          const docLinkHtml = 'Like what you see? Visit the ' +\n",
              "            '<a target=\"_blank\" href=https://colab.research.google.com/notebooks/data_table.ipynb>data table notebook</a>'\n",
              "            + ' to learn more about interactive tables.';\n",
              "          element.innerHTML = '';\n",
              "          dataTable['output_type'] = 'display_data';\n",
              "          await google.colab.output.renderOutput(dataTable, element);\n",
              "          const docLink = document.createElement('div');\n",
              "          docLink.innerHTML = docLinkHtml;\n",
              "          element.appendChild(docLink);\n",
              "        }\n",
              "      </script>\n",
              "    </div>\n",
              "  </div>\n",
              "  "
            ]
          },
          "metadata": {},
          "execution_count": 81
        }
      ]
    },
    {
      "cell_type": "code",
      "source": [
        "df = non_diabetic"
      ],
      "metadata": {
        "id": "ZioYFQDho1M1"
      },
      "execution_count": null,
      "outputs": []
    },
    {
      "cell_type": "code",
      "source": [
        "df.head()"
      ],
      "metadata": {
        "colab": {
          "base_uri": "https://localhost:8080/",
          "height": 285
        },
        "id": "o081JYz4o3d5",
        "outputId": "5d000f8b-9042-489e-8130-95f5537e0446"
      },
      "execution_count": null,
      "outputs": [
        {
          "output_type": "execute_result",
          "data": {
            "text/plain": [
              "    Unnamed: 0   seqn  gender  age  race_ethnicity  annual_income   bmi  \\\n",
              "0            0  62161       1   22               3           14.0  23.3   \n",
              "1            2  62164       2   44               3            8.0  23.2   \n",
              "6           20  62184       1   26               4           15.0  22.1   \n",
              "7           21  62189       2   30               5           10.0  22.4   \n",
              "14          37  62214       2   22               4            7.0  23.8   \n",
              "\n",
              "    weight  height  systolic_bp  diastolic_bp  glucose  triglycerides  \\\n",
              "0     69.2   172.3        110.0          82.0     92.0          110.0   \n",
              "1     67.2   170.1        116.0          56.0     82.0          151.0   \n",
              "6     68.9   176.6        120.0          70.0     87.0          117.0   \n",
              "7     54.4   156.0         94.0          64.0     83.0           68.0   \n",
              "14    70.9   172.7        110.0          56.0     90.0           90.0   \n",
              "\n",
              "    hdl_cholesterol  waist_circumference  physical_activity_level  \\\n",
              "0              41.0                 68.0                      2.0   \n",
              "1              28.0                 66.0                      1.0   \n",
              "6              61.0                 71.0                      1.0   \n",
              "7              48.0                 61.0                      2.0   \n",
              "14             54.0                 68.0                      2.0   \n",
              "\n",
              "    cholesterol  coffee_tea_added_sugar  A1C_level  condition  \n",
              "0         168.0                       2        5.1          0  \n",
              "1         190.0                       2        4.9          0  \n",
              "6         186.0                       2        4.5          0  \n",
              "7         134.0                       2        3.6          0  \n",
              "14        153.0                       2        5.2          0  "
            ],
            "text/html": [
              "\n",
              "  <div id=\"df-1d158eb0-2bcc-4705-929e-0cc1d37bfd83\">\n",
              "    <div class=\"colab-df-container\">\n",
              "      <div>\n",
              "<style scoped>\n",
              "    .dataframe tbody tr th:only-of-type {\n",
              "        vertical-align: middle;\n",
              "    }\n",
              "\n",
              "    .dataframe tbody tr th {\n",
              "        vertical-align: top;\n",
              "    }\n",
              "\n",
              "    .dataframe thead th {\n",
              "        text-align: right;\n",
              "    }\n",
              "</style>\n",
              "<table border=\"1\" class=\"dataframe\">\n",
              "  <thead>\n",
              "    <tr style=\"text-align: right;\">\n",
              "      <th></th>\n",
              "      <th>Unnamed: 0</th>\n",
              "      <th>seqn</th>\n",
              "      <th>gender</th>\n",
              "      <th>age</th>\n",
              "      <th>race_ethnicity</th>\n",
              "      <th>annual_income</th>\n",
              "      <th>bmi</th>\n",
              "      <th>weight</th>\n",
              "      <th>height</th>\n",
              "      <th>systolic_bp</th>\n",
              "      <th>diastolic_bp</th>\n",
              "      <th>glucose</th>\n",
              "      <th>triglycerides</th>\n",
              "      <th>hdl_cholesterol</th>\n",
              "      <th>waist_circumference</th>\n",
              "      <th>physical_activity_level</th>\n",
              "      <th>cholesterol</th>\n",
              "      <th>coffee_tea_added_sugar</th>\n",
              "      <th>A1C_level</th>\n",
              "      <th>condition</th>\n",
              "    </tr>\n",
              "  </thead>\n",
              "  <tbody>\n",
              "    <tr>\n",
              "      <th>0</th>\n",
              "      <td>0</td>\n",
              "      <td>62161</td>\n",
              "      <td>1</td>\n",
              "      <td>22</td>\n",
              "      <td>3</td>\n",
              "      <td>14.0</td>\n",
              "      <td>23.3</td>\n",
              "      <td>69.2</td>\n",
              "      <td>172.3</td>\n",
              "      <td>110.0</td>\n",
              "      <td>82.0</td>\n",
              "      <td>92.0</td>\n",
              "      <td>110.0</td>\n",
              "      <td>41.0</td>\n",
              "      <td>68.0</td>\n",
              "      <td>2.0</td>\n",
              "      <td>168.0</td>\n",
              "      <td>2</td>\n",
              "      <td>5.1</td>\n",
              "      <td>0</td>\n",
              "    </tr>\n",
              "    <tr>\n",
              "      <th>1</th>\n",
              "      <td>2</td>\n",
              "      <td>62164</td>\n",
              "      <td>2</td>\n",
              "      <td>44</td>\n",
              "      <td>3</td>\n",
              "      <td>8.0</td>\n",
              "      <td>23.2</td>\n",
              "      <td>67.2</td>\n",
              "      <td>170.1</td>\n",
              "      <td>116.0</td>\n",
              "      <td>56.0</td>\n",
              "      <td>82.0</td>\n",
              "      <td>151.0</td>\n",
              "      <td>28.0</td>\n",
              "      <td>66.0</td>\n",
              "      <td>1.0</td>\n",
              "      <td>190.0</td>\n",
              "      <td>2</td>\n",
              "      <td>4.9</td>\n",
              "      <td>0</td>\n",
              "    </tr>\n",
              "    <tr>\n",
              "      <th>6</th>\n",
              "      <td>20</td>\n",
              "      <td>62184</td>\n",
              "      <td>1</td>\n",
              "      <td>26</td>\n",
              "      <td>4</td>\n",
              "      <td>15.0</td>\n",
              "      <td>22.1</td>\n",
              "      <td>68.9</td>\n",
              "      <td>176.6</td>\n",
              "      <td>120.0</td>\n",
              "      <td>70.0</td>\n",
              "      <td>87.0</td>\n",
              "      <td>117.0</td>\n",
              "      <td>61.0</td>\n",
              "      <td>71.0</td>\n",
              "      <td>1.0</td>\n",
              "      <td>186.0</td>\n",
              "      <td>2</td>\n",
              "      <td>4.5</td>\n",
              "      <td>0</td>\n",
              "    </tr>\n",
              "    <tr>\n",
              "      <th>7</th>\n",
              "      <td>21</td>\n",
              "      <td>62189</td>\n",
              "      <td>2</td>\n",
              "      <td>30</td>\n",
              "      <td>5</td>\n",
              "      <td>10.0</td>\n",
              "      <td>22.4</td>\n",
              "      <td>54.4</td>\n",
              "      <td>156.0</td>\n",
              "      <td>94.0</td>\n",
              "      <td>64.0</td>\n",
              "      <td>83.0</td>\n",
              "      <td>68.0</td>\n",
              "      <td>48.0</td>\n",
              "      <td>61.0</td>\n",
              "      <td>2.0</td>\n",
              "      <td>134.0</td>\n",
              "      <td>2</td>\n",
              "      <td>3.6</td>\n",
              "      <td>0</td>\n",
              "    </tr>\n",
              "    <tr>\n",
              "      <th>14</th>\n",
              "      <td>37</td>\n",
              "      <td>62214</td>\n",
              "      <td>2</td>\n",
              "      <td>22</td>\n",
              "      <td>4</td>\n",
              "      <td>7.0</td>\n",
              "      <td>23.8</td>\n",
              "      <td>70.9</td>\n",
              "      <td>172.7</td>\n",
              "      <td>110.0</td>\n",
              "      <td>56.0</td>\n",
              "      <td>90.0</td>\n",
              "      <td>90.0</td>\n",
              "      <td>54.0</td>\n",
              "      <td>68.0</td>\n",
              "      <td>2.0</td>\n",
              "      <td>153.0</td>\n",
              "      <td>2</td>\n",
              "      <td>5.2</td>\n",
              "      <td>0</td>\n",
              "    </tr>\n",
              "  </tbody>\n",
              "</table>\n",
              "</div>\n",
              "      <button class=\"colab-df-convert\" onclick=\"convertToInteractive('df-1d158eb0-2bcc-4705-929e-0cc1d37bfd83')\"\n",
              "              title=\"Convert this dataframe to an interactive table.\"\n",
              "              style=\"display:none;\">\n",
              "        \n",
              "  <svg xmlns=\"http://www.w3.org/2000/svg\" height=\"24px\"viewBox=\"0 0 24 24\"\n",
              "       width=\"24px\">\n",
              "    <path d=\"M0 0h24v24H0V0z\" fill=\"none\"/>\n",
              "    <path d=\"M18.56 5.44l.94 2.06.94-2.06 2.06-.94-2.06-.94-.94-2.06-.94 2.06-2.06.94zm-11 1L8.5 8.5l.94-2.06 2.06-.94-2.06-.94L8.5 2.5l-.94 2.06-2.06.94zm10 10l.94 2.06.94-2.06 2.06-.94-2.06-.94-.94-2.06-.94 2.06-2.06.94z\"/><path d=\"M17.41 7.96l-1.37-1.37c-.4-.4-.92-.59-1.43-.59-.52 0-1.04.2-1.43.59L10.3 9.45l-7.72 7.72c-.78.78-.78 2.05 0 2.83L4 21.41c.39.39.9.59 1.41.59.51 0 1.02-.2 1.41-.59l7.78-7.78 2.81-2.81c.8-.78.8-2.07 0-2.86zM5.41 20L4 18.59l7.72-7.72 1.47 1.35L5.41 20z\"/>\n",
              "  </svg>\n",
              "      </button>\n",
              "      \n",
              "  <style>\n",
              "    .colab-df-container {\n",
              "      display:flex;\n",
              "      flex-wrap:wrap;\n",
              "      gap: 12px;\n",
              "    }\n",
              "\n",
              "    .colab-df-convert {\n",
              "      background-color: #E8F0FE;\n",
              "      border: none;\n",
              "      border-radius: 50%;\n",
              "      cursor: pointer;\n",
              "      display: none;\n",
              "      fill: #1967D2;\n",
              "      height: 32px;\n",
              "      padding: 0 0 0 0;\n",
              "      width: 32px;\n",
              "    }\n",
              "\n",
              "    .colab-df-convert:hover {\n",
              "      background-color: #E2EBFA;\n",
              "      box-shadow: 0px 1px 2px rgba(60, 64, 67, 0.3), 0px 1px 3px 1px rgba(60, 64, 67, 0.15);\n",
              "      fill: #174EA6;\n",
              "    }\n",
              "\n",
              "    [theme=dark] .colab-df-convert {\n",
              "      background-color: #3B4455;\n",
              "      fill: #D2E3FC;\n",
              "    }\n",
              "\n",
              "    [theme=dark] .colab-df-convert:hover {\n",
              "      background-color: #434B5C;\n",
              "      box-shadow: 0px 1px 3px 1px rgba(0, 0, 0, 0.15);\n",
              "      filter: drop-shadow(0px 1px 2px rgba(0, 0, 0, 0.3));\n",
              "      fill: #FFFFFF;\n",
              "    }\n",
              "  </style>\n",
              "\n",
              "      <script>\n",
              "        const buttonEl =\n",
              "          document.querySelector('#df-1d158eb0-2bcc-4705-929e-0cc1d37bfd83 button.colab-df-convert');\n",
              "        buttonEl.style.display =\n",
              "          google.colab.kernel.accessAllowed ? 'block' : 'none';\n",
              "\n",
              "        async function convertToInteractive(key) {\n",
              "          const element = document.querySelector('#df-1d158eb0-2bcc-4705-929e-0cc1d37bfd83');\n",
              "          const dataTable =\n",
              "            await google.colab.kernel.invokeFunction('convertToInteractive',\n",
              "                                                     [key], {});\n",
              "          if (!dataTable) return;\n",
              "\n",
              "          const docLinkHtml = 'Like what you see? Visit the ' +\n",
              "            '<a target=\"_blank\" href=https://colab.research.google.com/notebooks/data_table.ipynb>data table notebook</a>'\n",
              "            + ' to learn more about interactive tables.';\n",
              "          element.innerHTML = '';\n",
              "          dataTable['output_type'] = 'display_data';\n",
              "          await google.colab.output.renderOutput(dataTable, element);\n",
              "          const docLink = document.createElement('div');\n",
              "          docLink.innerHTML = docLinkHtml;\n",
              "          element.appendChild(docLink);\n",
              "        }\n",
              "      </script>\n",
              "    </div>\n",
              "  </div>\n",
              "  "
            ]
          },
          "metadata": {},
          "execution_count": 118
        }
      ]
    },
    {
      "cell_type": "code",
      "source": [
        "total_count = len(df)\n",
        "male_count = len(df[df['gender'] == 1])\n",
        "female_count = len(df[df['gender'] == 2])\n",
        "\n",
        "male_percent = (male_count / total_count) * 100\n",
        "female_percent = (female_count / total_count) * 100\n",
        "print('nodiabetes')\n",
        "print(f\"Male percentage: {male_percent:.2f}%\")\n",
        "print(f\"Female percentage: {female_percent:.2f}%\")"
      ],
      "metadata": {
        "colab": {
          "base_uri": "https://localhost:8080/"
        },
        "id": "OBB6hTyxm6gT",
        "outputId": "72be5926-01ad-4cf2-cbb7-e812b57ebbb8"
      },
      "execution_count": null,
      "outputs": [
        {
          "output_type": "stream",
          "name": "stdout",
          "text": [
            "nodiabetes\n",
            "Male percentage: 46.28%\n",
            "Female percentage: 53.72%\n"
          ]
        }
      ]
    },
    {
      "cell_type": "code",
      "source": [
        "sns.countplot(df, x = 'gender')"
      ],
      "metadata": {
        "colab": {
          "base_uri": "https://localhost:8080/",
          "height": 466
        },
        "id": "alNgGkZgo_6L",
        "outputId": "c95f81d8-a9c8-478a-b78b-28f335917b38"
      },
      "execution_count": null,
      "outputs": [
        {
          "output_type": "execute_result",
          "data": {
            "text/plain": [
              "<Axes: xlabel='gender', ylabel='count'>"
            ]
          },
          "metadata": {},
          "execution_count": 112
        },
        {
          "output_type": "display_data",
          "data": {
            "text/plain": [
              "<Figure size 640x480 with 1 Axes>"
            ],
            "image/png": "[encoded data removed]"
          },
          "metadata": {}
        }
      ]
    },
    {
      "cell_type": "code",
      "source": [],
      "metadata": {
        "id": "EjsCMO1xsaAv"
      },
      "execution_count": null,
      "outputs": []
    },
    {
      "cell_type": "code",
      "source": [
        "diabetes[['condition','A1C_level']].values.tolist()"
      ],
      "metadata": {
        "colab": {
          "base_uri": "https://localhost:8080/"
        },
        "id": "9zkulPwvrjCH",
        "outputId": "93ee0da2-3ad0-4fc9-9e6e-2b482138926f"
      },
      "execution_count": null,
      "outputs": [
        {
          "output_type": "execute_result",
          "data": {
            "text/plain": [
              "[[2.0, 9.6],\n",
              " [2.0, 7.0],\n",
              " [2.0, 8.7],\n",
              " [2.0, 11.1],\n",
              " [2.0, 5.1],\n",
              " [2.0, 11.2],\n",
              " [2.0, 7.7],\n",
              " [2.0, 7.8],\n",
              " [2.0, 9.7],\n",
              " [2.0, 6.1],\n",
              " [2.0, 5.8],\n",
              " [2.0, 5.9],\n",
              " [2.0, 6.6],\n",
              " [2.0, 8.4],\n",
              " [2.0, 7.2],\n",
              " [2.0, 6.0],\n",
              " [2.0, 5.4],\n",
              " [2.0, 11.2],\n",
              " [2.0, 7.3],\n",
              " [2.0, 6.9],\n",
              " [2.0, 10.5],\n",
              " [2.0, 5.9],\n",
              " [2.0, 6.5],\n",
              " [2.0, 6.5],\n",
              " [2.0, 12.2],\n",
              " [2.0, 9.6],\n",
              " [2.0, 7.6],\n",
              " [2.0, 7.2],\n",
              " [2.0, 7.4],\n",
              " [2.0, 7.9],\n",
              " [2.0, 6.2],\n",
              " [2.0, 6.0],\n",
              " [2.0, 6.0],\n",
              " [2.0, 6.4],\n",
              " [2.0, 8.8],\n",
              " [2.0, 5.9],\n",
              " [2.0, 6.8],\n",
              " [2.0, 6.0],\n",
              " [2.0, 11.0],\n",
              " [2.0, 8.0],\n",
              " [2.0, 10.9],\n",
              " [2.0, 7.3],\n",
              " [2.0, 6.7],\n",
              " [2.0, 8.0],\n",
              " [2.0, 6.3],\n",
              " [2.0, 6.7],\n",
              " [2.0, 11.9],\n",
              " [2.0, 9.8],\n",
              " [2.0, 6.2],\n",
              " [2.0, 8.1],\n",
              " [2.0, 6.8],\n",
              " [2.0, 11.5],\n",
              " [2.0, 10.2],\n",
              " [2.0, 10.6],\n",
              " [2.0, 10.5],\n",
              " [2.0, 6.2],\n",
              " [2.0, 6.4],\n",
              " [2.0, 8.1],\n",
              " [2.0, 8.9],\n",
              " [2.0, 6.7],\n",
              " [2.0, 7.2],\n",
              " [2.0, 8.4],\n",
              " [2.0, 6.5],\n",
              " [2.0, 8.6],\n",
              " [2.0, 7.3],\n",
              " [2.0, 6.5],\n",
              " [2.0, 7.4],\n",
              " [2.0, 6.3],\n",
              " [2.0, 6.2],\n",
              " [2.0, 6.3],\n",
              " [2.0, 7.8],\n",
              " [2.0, 5.9],\n",
              " [2.0, 7.5],\n",
              " [2.0, 6.7],\n",
              " [2.0, 9.4],\n",
              " [2.0, 6.4],\n",
              " [2.0, 9.4],\n",
              " [2.0, 10.8],\n",
              " [2.0, 6.8],\n",
              " [2.0, 10.5],\n",
              " [2.0, 5.4],\n",
              " [2.0, 6.8],\n",
              " [2.0, 9.9],\n",
              " [2.0, 6.0],\n",
              " [2.0, 8.6],\n",
              " [2.0, 7.2],\n",
              " [2.0, 6.6],\n",
              " [2.0, 6.3],\n",
              " [2.0, 7.0],\n",
              " [2.0, 6.7],\n",
              " [2.0, 15.9],\n",
              " [2.0, 9.1],\n",
              " [2.0, 6.8],\n",
              " [2.0, 15.2],\n",
              " [2.0, 11.0],\n",
              " [2.0, 9.5],\n",
              " [2.0, 8.1],\n",
              " [2.0, 6.5],\n",
              " [2.0, 6.3],\n",
              " [2.0, 6.6],\n",
              " [2.0, 7.6],\n",
              " [2.0, 5.9],\n",
              " [2.0, 7.5],\n",
              " [2.0, 7.3],\n",
              " [2.0, 5.8],\n",
              " [2.0, 7.9],\n",
              " [2.0, 6.4],\n",
              " [2.0, 4.9],\n",
              " [2.0, 6.9],\n",
              " [2.0, 12.4],\n",
              " [2.0, 7.4],\n",
              " [2.0, 5.8],\n",
              " [2.0, 7.8],\n",
              " [2.0, 8.0],\n",
              " [2.0, 7.0],\n",
              " [2.0, 6.5],\n",
              " [2.0, 8.8],\n",
              " [2.0, 6.8],\n",
              " [2.0, 7.7],\n",
              " [2.0, 6.5],\n",
              " [2.0, 6.6],\n",
              " [2.0, 6.1],\n",
              " [2.0, 9.1],\n",
              " [2.0, 5.5],\n",
              " [2.0, 6.9],\n",
              " [2.0, 7.9],\n",
              " [2.0, 7.4],\n",
              " [2.0, 5.9],\n",
              " [2.0, 8.3],\n",
              " [2.0, 7.5],\n",
              " [2.0, 6.8],\n",
              " [2.0, 11.0],\n",
              " [2.0, 6.7],\n",
              " [2.0, 9.3],\n",
              " [2.0, 6.6],\n",
              " [2.0, 6.0],\n",
              " [2.0, 6.5],\n",
              " [2.0, 10.8],\n",
              " [2.0, 6.9],\n",
              " [2.0, 5.9],\n",
              " [2.0, 6.6],\n",
              " [2.0, 6.8],\n",
              " [2.0, 6.3],\n",
              " [2.0, 6.6],\n",
              " [2.0, 6.8],\n",
              " [2.0, 13.1],\n",
              " [2.0, 11.2],\n",
              " [2.0, 9.1],\n",
              " [2.0, 6.6],\n",
              " [2.0, 6.7],\n",
              " [2.0, 6.9],\n",
              " [2.0, 7.4],\n",
              " [2.0, 8.9],\n",
              " [2.0, 6.4],\n",
              " [2.0, 6.8],\n",
              " [2.0, 8.1],\n",
              " [2.0, 6.6],\n",
              " [2.0, 6.6],\n",
              " [2.0, 8.0],\n",
              " [2.0, 7.4],\n",
              " [2.0, 7.5],\n",
              " [2.0, 8.2],\n",
              " [2.0, 8.2],\n",
              " [2.0, 8.5],\n",
              " [2.0, 4.9],\n",
              " [2.0, 7.8],\n",
              " [2.0, 6.3],\n",
              " [2.0, 9.9],\n",
              " [2.0, 11.3],\n",
              " [2.0, 5.3],\n",
              " [2.0, 9.1],\n",
              " [2.0, 6.6],\n",
              " [2.0, 6.2],\n",
              " [2.0, 9.7],\n",
              " [2.0, 7.6],\n",
              " [2.0, 6.2],\n",
              " [2.0, 6.8],\n",
              " [2.0, 4.9],\n",
              " [2.0, 8.7],\n",
              " [2.0, 6.4],\n",
              " [2.0, 5.5],\n",
              " [2.0, 6.9],\n",
              " [2.0, 6.7],\n",
              " [2.0, 6.7],\n",
              " [2.0, 7.6],\n",
              " [2.0, 7.1],\n",
              " [2.0, 9.9],\n",
              " [2.0, 13.2],\n",
              " [2.0, 5.7],\n",
              " [2.0, 6.1],\n",
              " [2.0, 5.2],\n",
              " [2.0, 5.6],\n",
              " [2.0, 8.3],\n",
              " [2.0, 9.4],\n",
              " [2.0, 5.9],\n",
              " [2.0, 7.1],\n",
              " [2.0, 7.6],\n",
              " [2.0, 7.6],\n",
              " [2.0, 7.5],\n",
              " [2.0, 5.0],\n",
              " [2.0, 6.1],\n",
              " [2.0, 5.8],\n",
              " [2.0, 5.8],\n",
              " [2.0, 6.9],\n",
              " [2.0, 8.5],\n",
              " [2.0, 6.8],\n",
              " [2.0, 6.7],\n",
              " [2.0, 7.4],\n",
              " [2.0, 8.5],\n",
              " [2.0, 16.5],\n",
              " [2.0, 6.9],\n",
              " [2.0, 6.3],\n",
              " [2.0, 6.2],\n",
              " [2.0, 5.8],\n",
              " [2.0, 7.6],\n",
              " [2.0, 8.9],\n",
              " [2.0, 13.2],\n",
              " [2.0, 6.6],\n",
              " [2.0, 6.7],\n",
              " [2.0, 6.4],\n",
              " [2.0, 6.0],\n",
              " [2.0, 7.1],\n",
              " [2.0, 7.1],\n",
              " [2.0, 6.8],\n",
              " [2.0, 5.2],\n",
              " [2.0, 7.5],\n",
              " [2.0, 7.5],\n",
              " [2.0, 6.8],\n",
              " [2.0, 5.5],\n",
              " [2.0, 8.3],\n",
              " [2.0, 6.0],\n",
              " [2.0, 7.9],\n",
              " [2.0, 6.7],\n",
              " [2.0, 6.0],\n",
              " [2.0, 5.3],\n",
              " [2.0, 6.0],\n",
              " [2.0, 5.6],\n",
              " [2.0, 6.7],\n",
              " [2.0, 9.3],\n",
              " [2.0, 6.3],\n",
              " [2.0, 5.9],\n",
              " [2.0, 7.0],\n",
              " [2.0, 6.9],\n",
              " [2.0, 11.5],\n",
              " [2.0, 6.0],\n",
              " [2.0, 6.2],\n",
              " [2.0, 7.8],\n",
              " [2.0, 8.5],\n",
              " [2.0, 6.2],\n",
              " [2.0, 7.3],\n",
              " [2.0, 10.7],\n",
              " [2.0, 6.8],\n",
              " [2.0, 8.9],\n",
              " [2.0, 6.1],\n",
              " [2.0, 10.1],\n",
              " [2.0, 6.6],\n",
              " [2.0, 7.6],\n",
              " [2.0, 7.1],\n",
              " [2.0, 6.3],\n",
              " [2.0, 6.9],\n",
              " [2.0, 10.1],\n",
              " [2.0, 7.8],\n",
              " [2.0, 8.3],\n",
              " [2.0, 8.1],\n",
              " [2.0, 6.1],\n",
              " [2.0, 6.4],\n",
              " [2.0, 7.7],\n",
              " [2.0, 7.8],\n",
              " [2.0, 6.7],\n",
              " [2.0, 6.1],\n",
              " [2.0, 9.3],\n",
              " [2.0, 9.6],\n",
              " [2.0, 6.6],\n",
              " [2.0, 6.8],\n",
              " [2.0, 11.4],\n",
              " [2.0, 5.5],\n",
              " [2.0, 5.7],\n",
              " [2.0, 8.4],\n",
              " [2.0, 6.1],\n",
              " [2.0, 9.2],\n",
              " [2.0, 12.4],\n",
              " [2.0, 6.4],\n",
              " [2.0, 6.3],\n",
              " [2.0, 6.7],\n",
              " [2.0, 6.3],\n",
              " [2.0, 6.7],\n",
              " [2.0, 6.4],\n",
              " [2.0, 11.0],\n",
              " [2.0, 6.6],\n",
              " [2.0, 6.2],\n",
              " [2.0, 6.7],\n",
              " [2.0, 6.7],\n",
              " [2.0, 7.0],\n",
              " [2.0, 5.5],\n",
              " [2.0, 7.3],\n",
              " [2.0, 7.7],\n",
              " [2.0, 7.0],\n",
              " [2.0, 6.5],\n",
              " [2.0, 6.3],\n",
              " [2.0, 10.3],\n",
              " [2.0, 6.7],\n",
              " [2.0, 6.0],\n",
              " [2.0, 7.7],\n",
              " [2.0, 10.9],\n",
              " [2.0, 6.6],\n",
              " [2.0, 7.8],\n",
              " [2.0, 7.0],\n",
              " [2.0, 5.7],\n",
              " [2.0, 10.6],\n",
              " [2.0, 6.5],\n",
              " [2.0, 5.2]]"
            ]
          },
          "metadata": {},
          "execution_count": 127
        }
      ]
    }
  ]
}